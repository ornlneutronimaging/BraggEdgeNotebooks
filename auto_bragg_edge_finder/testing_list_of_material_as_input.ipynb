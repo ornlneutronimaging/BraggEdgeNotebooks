{
 "cells": [
  {
   "cell_type": "code",
   "execution_count": 1,
   "metadata": {
    "collapsed": true
   },
   "outputs": [],
   "source": [
    "import sys\n",
    "sys.path.append('/users/j35/git/braggedge/python')"
   ]
  },
  {
   "cell_type": "markdown",
   "metadata": {},
   "source": [
    "## From top function "
   ]
  },
  {
   "cell_type": "code",
   "execution_count": 2,
   "metadata": {
    "collapsed": false
   },
   "outputs": [],
   "source": [
    "from neutronbraggedge.braggedge import BraggEdge"
   ]
  },
  {
   "cell_type": "code",
   "execution_count": 3,
   "metadata": {
    "collapsed": false
   },
   "outputs": [],
   "source": [
    "_handler = BraggEdge(material=['Al', 'Fe'], number_of_bragg_edges=10, use_local_metadata_table=True)"
   ]
  },
  {
   "cell_type": "code",
   "execution_count": 4,
   "metadata": {
    "collapsed": false
   },
   "outputs": [
    {
     "name": "stdout",
     "output_type": "stream",
     "text": [
      "{'Al': 4.046, 'Fe': 2.8664}\n"
     ]
    }
   ],
   "source": [
    "print(_handler.lattice)"
   ]
  },
  {
   "cell_type": "code",
   "execution_count": 5,
   "metadata": {
    "collapsed": false
   },
   "outputs": [
    {
     "name": "stdout",
     "output_type": "stream",
     "text": [
      "{'Al': 'FCC', 'Fe': 'BCC'}\n"
     ]
    }
   ],
   "source": [
    "print(_handler.crystal_structure)"
   ]
  },
  {
   "cell_type": "code",
   "execution_count": 6,
   "metadata": {
    "collapsed": false
   },
   "outputs": [
    {
     "name": "stdout",
     "output_type": "stream",
     "text": [
      "{'lattice': {'Al': 4.046, 'Fe': 2.8664}, 'crystal_structure': {'Al': 'FCC', 'Fe': 'BCC'}}\n"
     ]
    }
   ],
   "source": [
    "print(_handler.metadata)"
   ]
  },
  {
   "cell_type": "code",
   "execution_count": 7,
   "metadata": {
    "collapsed": false
   },
   "outputs": [
    {
     "name": "stdout",
     "output_type": "stream",
     "text": [
      "2.8664\n"
     ]
    }
   ],
   "source": [
    "print(_handler.metadata['lattice']['Fe'])"
   ]
  },
  {
   "cell_type": "code",
   "execution_count": 8,
   "metadata": {
    "collapsed": false
   },
   "outputs": [
    {
     "name": "stdout",
     "output_type": "stream",
     "text": [
      "{'Al': [[1, 1, 1], [2, 0, 0], [2, 2, 0], [2, 2, 2], [3, 1, 1], [3, 3, 1], [3, 3, 3], [4, 0, 0], [4, 2, 0], [4, 2, 2]], 'Fe': [[1, 1, 0], [2, 0, 0], [2, 1, 1], [2, 2, 0], [2, 2, 2], [3, 1, 0], [3, 2, 1], [3, 3, 0], [3, 3, 2], [4, 0, 0]]}\n"
     ]
    }
   ],
   "source": [
    "print(_handler.hkl)"
   ]
  },
  {
   "cell_type": "code",
   "execution_count": 9,
   "metadata": {
    "collapsed": false
   },
   "outputs": [
    {
     "name": "stdout",
     "output_type": "stream",
     "text": [
      "[[1, 1, 1], [2, 0, 0], [2, 2, 0], [2, 2, 2], [3, 1, 1], [3, 3, 1], [3, 3, 3], [4, 0, 0], [4, 2, 0], [4, 2, 2]]\n"
     ]
    }
   ],
   "source": [
    "print(_handler.hkl['Al'])"
   ]
  },
  {
   "cell_type": "code",
   "execution_count": 10,
   "metadata": {
    "collapsed": false
   },
   "outputs": [
    {
     "data": {
      "text/plain": [
       "<neutronbraggedge.braggedges_handler.braggedge_calculator.BraggEdgeCalculator at 0x112f1a290>"
      ]
     },
     "execution_count": 10,
     "metadata": {},
     "output_type": "execute_result"
    }
   ],
   "source": [
    "_handler._calculator['Al']"
   ]
  },
  {
   "cell_type": "code",
   "execution_count": 11,
   "metadata": {
    "collapsed": false
   },
   "outputs": [
    {
     "name": "stdout",
     "output_type": "stream",
     "text": [
      "[[1, 1, 1], [2, 0, 0], [2, 2, 0], [2, 2, 2], [3, 1, 1], [3, 3, 1], [3, 3, 3], [4, 0, 0], [4, 2, 0], [4, 2, 2]]\n",
      "4.046\n"
     ]
    }
   ],
   "source": [
    "_calculator = _handler._calculator['Al']\n",
    "print(_calculator.hkl)\n",
    "print(_calculator.lattice)\n",
    "\n",
    "_calculator.calculate_bragg_edges()\n",
    "\n"
   ]
  },
  {
   "cell_type": "code",
   "execution_count": 12,
   "metadata": {
    "collapsed": false
   },
   "outputs": [
    {
     "name": "stdout",
     "output_type": "stream",
     "text": [
      "=============================================\n",
      "Material: Al\n",
      "Lattice : 4.0460Å\n",
      "Crystal Structure: FCC\n",
      "Using local metadata Table: True\n",
      "=============================================\n",
      " h | k | l |\t d (Å)  |\t BraggEdge\n",
      "---------------------------------------------\n",
      " 1 | 1 | 1 |\t 2.33596 |\t 4.67192\n",
      " 2 | 0 | 0 |\t 2.02300 |\t 4.04600\n",
      " 2 | 2 | 0 |\t 1.43048 |\t 2.86095\n",
      " 2 | 2 | 2 |\t 1.16798 |\t 2.33596\n",
      " 3 | 1 | 1 |\t 1.21991 |\t 2.43983\n",
      " 3 | 3 | 1 |\t 0.92822 |\t 1.85643\n",
      " 3 | 3 | 3 |\t 0.77865 |\t 1.55731\n",
      " 4 | 0 | 0 |\t 1.01150 |\t 2.02300\n",
      " 4 | 2 | 0 |\t 0.90471 |\t 1.80943\n",
      " 4 | 2 | 2 |\t 0.82589 |\t 1.65177\n",
      "=============================================\n",
      "=============================================\n",
      "Material: Fe\n",
      "Lattice : 2.8664Å\n",
      "Crystal Structure: BCC\n",
      "Using local metadata Table: True\n",
      "=============================================\n",
      " h | k | l |\t d (Å)  |\t BraggEdge\n",
      "---------------------------------------------\n",
      " 1 | 1 | 0 |\t 2.02685 |\t 4.05370\n",
      " 2 | 0 | 0 |\t 1.43320 |\t 2.86640\n",
      " 2 | 1 | 1 |\t 1.17020 |\t 2.34041\n",
      " 2 | 2 | 0 |\t 1.01343 |\t 2.02685\n",
      " 2 | 2 | 2 |\t 0.82746 |\t 1.65492\n",
      " 3 | 1 | 0 |\t 0.90644 |\t 1.81287\n",
      " 3 | 2 | 1 |\t 0.76608 |\t 1.53216\n",
      " 3 | 3 | 0 |\t 0.67562 |\t 1.35123\n",
      " 3 | 3 | 2 |\t 0.61112 |\t 1.22224\n",
      " 4 | 0 | 0 |\t 0.71660 |\t 1.43320\n",
      "=============================================\n",
      "\n"
     ]
    }
   ],
   "source": [
    "print(_handler)"
   ]
  },
  {
   "cell_type": "markdown",
   "metadata": {},
   "source": [
    "## Tryin to access BraggEdgeCalculator directly"
   ]
  },
  {
   "cell_type": "code",
   "execution_count": 12,
   "metadata": {
    "collapsed": false
   },
   "outputs": [],
   "source": [
    "from neutronbraggedge.braggedges_handler.braggedge_calculator import BraggEdgeCalculator"
   ]
  },
  {
   "cell_type": "code",
   "execution_count": 13,
   "metadata": {
    "collapsed": true
   },
   "outputs": [],
   "source": [
    "_calculator = BraggEdgeCalculator(structure_name=\"FCC\", lattice=10, number_of_set=5)"
   ]
  },
  {
   "cell_type": "code",
   "execution_count": 14,
   "metadata": {
    "collapsed": true
   },
   "outputs": [],
   "source": [
    "_calculator.calculate_hkl()\n",
    "_calculator.calculate_bragg_edges()"
   ]
  },
  {
   "cell_type": "markdown",
   "metadata": {},
   "source": [
    "## Test with Fe "
   ]
  },
  {
   "cell_type": "code",
   "execution_count": 15,
   "metadata": {
    "collapsed": true
   },
   "outputs": [],
   "source": [
    "_handler = BraggEdge(material='Fe', number_of_bragg_edges=4)"
   ]
  },
  {
   "cell_type": "code",
   "execution_count": 16,
   "metadata": {
    "collapsed": false
   },
   "outputs": [
    {
     "name": "stdout",
     "output_type": "stream",
     "text": [
      "{'Fe': [4.0537017551862391, 2.8664000000000001, 2.3404057995712342, 2.0268508775931195]}\n"
     ]
    }
   ],
   "source": [
    "print(_handler.bragg_edges)"
   ]
  },
  {
   "cell_type": "code",
   "execution_count": 17,
   "metadata": {
    "collapsed": false
   },
   "outputs": [
    {
     "ename": "SyntaxError",
     "evalue": "unexpected EOF while parsing (<ipython-input-17-e0e35a5c491e>, line 1)",
     "output_type": "error",
     "traceback": [
      "\u001b[0;36m  File \u001b[0;32m\"<ipython-input-17-e0e35a5c491e>\"\u001b[0;36m, line \u001b[0;32m1\u001b[0m\n\u001b[0;31m    print(_handler.metadata\u001b[0m\n\u001b[0m                           ^\u001b[0m\n\u001b[0;31mSyntaxError\u001b[0m\u001b[0;31m:\u001b[0m unexpected EOF while parsing\n"
     ]
    }
   ],
   "source": [
    "print(_handler.metadata"
   ]
  },
  {
   "cell_type": "code",
   "execution_count": 18,
   "metadata": {
    "collapsed": false
   },
   "outputs": [
    {
     "name": "stdout",
     "output_type": "stream",
     "text": [
      "=============================================\n",
      "Material: Fe\n",
      "Lattice : 2.8664Å\n",
      "Crystal Structure: BCC\n",
      "Using local metadata Table: True\n",
      "=============================================\n",
      " h | k | l |\t d (Å)  |\t BraggEdge\n",
      "---------------------------------------------\n",
      " 1 | 1 | 0 |\t 2.02685 |\t 4.05370\n",
      "=============================================\n",
      " 2 | 0 | 0 |\t 1.43320 |\t 2.86640\n",
      "=============================================\n",
      " 2 | 1 | 1 |\t 1.17020 |\t 2.34041\n",
      "=============================================\n",
      " 2 | 2 | 0 |\t 1.01343 |\t 2.02685\n",
      "=============================================\n",
      "\n"
     ]
    }
   ],
   "source": [
    "print(_handler)"
   ]
  },
  {
   "cell_type": "code",
   "execution_count": null,
   "metadata": {
    "collapsed": true
   },
   "outputs": [],
   "source": []
  }
 ],
 "metadata": {
  "kernelspec": {
   "display_name": "Python 2",
   "language": "python",
   "name": "python2"
  },
  "language_info": {
   "codemirror_mode": {
    "name": "ipython",
    "version": 2
   },
   "file_extension": ".py",
   "mimetype": "text/x-python",
   "name": "python",
   "nbconvert_exporter": "python",
   "pygments_lexer": "ipython2",
   "version": "2.7.11"
  }
 },
 "nbformat": 4,
 "nbformat_minor": 0
}

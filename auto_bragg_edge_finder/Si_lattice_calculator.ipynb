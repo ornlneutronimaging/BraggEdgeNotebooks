{
 "cells": [
  {
   "cell_type": "code",
   "execution_count": 1,
   "metadata": {
    "collapsed": true
   },
   "outputs": [],
   "source": [
    "import numpy as np\n",
    "from neutronbraggedge.lattice_handler.lattice import Lattice"
   ]
  },
  {
   "cell_type": "markdown",
   "metadata": {},
   "source": [
    "### init object "
   ]
  },
  {
   "cell_type": "code",
   "execution_count": 2,
   "metadata": {
    "collapsed": false
   },
   "outputs": [],
   "source": [
    "_material = 'Si'\n",
    "_crystal_structure = 'FCC'\n",
    "_bragg_edge_array = np.array([1.1, np.NaN, 3.3, 4.4])"
   ]
  },
  {
   "cell_type": "code",
   "execution_count": 3,
   "metadata": {
    "collapsed": false
   },
   "outputs": [],
   "source": [
    "o_lattice = Lattice(material = _material,\n",
    "                   crystal_structure = _crystal_structure,\n",
    "                   bragg_edge_array = _bragg_edge_array)"
   ]
  },
  {
   "cell_type": "markdown",
   "metadata": {},
   "source": [
    "### calculate hkl bragg edge sequence "
   ]
  },
  {
   "cell_type": "code",
   "execution_count": 4,
   "metadata": {
    "collapsed": false
   },
   "outputs": [
    {
     "name": "stdout",
     "output_type": "stream",
     "text": [
      "hkl Bragg Edge Table\n",
      "==================================================\n",
      "hkl \t\t Bragg Edge \t Lattice\n",
      "--------------------------------------------------\n",
      "[1, 1, 1]\t 1.1000\t\t 0.9526\n",
      "[2, 0, 0]\t nan\t\t nan\n",
      "[2, 2, 0]\t 3.3000\t\t 4.6669\n",
      "[2, 2, 2]\t 4.4000\t\t 7.6210\n",
      "--------------------------------------------------\n"
     ]
    },
    {
     "data": {
      "text/plain": [
       "True"
      ]
     },
     "execution_count": 4,
     "metadata": {},
     "output_type": "execute_result"
    }
   ],
   "source": [
    "o_lattice.display_hkl_bragg_edge()"
   ]
  },
  {
   "cell_type": "code",
   "execution_count": 6,
   "metadata": {
    "collapsed": false
   },
   "outputs": [
    {
     "name": "stdout",
     "output_type": "stream",
     "text": [
      "Lattice Statistics\n",
      "==================================================\n",
      "min: 0.95263\n",
      "max: 7.62102\n",
      "median: 4.66690\n",
      "mean: 4.41352\n",
      "std: 2.72825\n",
      "--------------------------------------------------\n",
      "\n"
     ]
    }
   ],
   "source": [
    "o_lattice.display_lattice_statistics()"
   ]
  },
  {
   "cell_type": "markdown",
   "metadata": {},
   "source": [
    "### Full recap"
   ]
  },
  {
   "cell_type": "code",
   "execution_count": 5,
   "metadata": {
    "collapsed": false
   },
   "outputs": [
    {
     "name": "stdout",
     "output_type": "stream",
     "text": [
      " -- Recap --\n",
      "==================================================\n",
      "Material: 'Si'\n",
      "Crystal Structure: 'FCC'\n",
      "--------------------------------------------------\n",
      "\n",
      "hkl Bragg Edge Table\n",
      "==================================================\n",
      "hkl \t\t Bragg Edge \t Lattice\n",
      "--------------------------------------------------\n",
      "[1, 1, 1]\t 1.1000\t\t 0.9526\n",
      "[2, 0, 0]\t nan\t\t nan\n",
      "[2, 2, 0]\t 3.3000\t\t 4.6669\n",
      "[2, 2, 2]\t 4.4000\t\t 7.6210\n",
      "--------------------------------------------------\n",
      "Lattice Statistics\n",
      "==================================================\n",
      "min: 0.95263\n",
      "max: 7.62102\n",
      "median: 4.66690\n",
      "mean: 4.41352\n",
      "std: 2.72825\n",
      "--------------------------------------------------\n",
      "\n"
     ]
    }
   ],
   "source": [
    "o_lattice.display_recap()"
   ]
  },
  {
   "cell_type": "code",
   "execution_count": 7,
   "metadata": {
    "collapsed": false
   },
   "outputs": [
    {
     "name": "stdout",
     "output_type": "stream",
     "text": [
      "[[1, 1, 1], [2, 0, 0], [2, 2, 0], [2, 2, 2]]\n"
     ]
    }
   ],
   "source": [
    "print(o_lattice.hkl)"
   ]
  },
  {
   "cell_type": "code",
   "execution_count": 8,
   "metadata": {
    "collapsed": false
   },
   "outputs": [
    {
     "name": "stdout",
     "output_type": "stream",
     "text": [
      "{'mean': 4.4135187510990521, 'min': 0.95262794416288255, 'median': 4.6669047558312133, 'max': 7.6210235533030604, 'std': 2.7282507644454284}\n"
     ]
    }
   ],
   "source": [
    "print(o_lattice.lattice_statistics)"
   ]
  },
  {
   "cell_type": "code",
   "execution_count": 11,
   "metadata": {
    "collapsed": false
   },
   "outputs": [
    {
     "name": "stdout",
     "output_type": "stream",
     "text": [
      "4.4135187511\n"
     ]
    }
   ],
   "source": [
    "print(o_lattice.lattice_statistics['mean'])"
   ]
  },
  {
   "cell_type": "code",
   "execution_count": null,
   "metadata": {
    "collapsed": true
   },
   "outputs": [],
   "source": []
  }
 ],
 "metadata": {
  "kernelspec": {
   "display_name": "Python 3",
   "language": "python",
   "name": "python3"
  },
  "language_info": {
   "codemirror_mode": {
    "name": "ipython",
    "version": 3
   },
   "file_extension": ".py",
   "mimetype": "text/x-python",
   "name": "python",
   "nbconvert_exporter": "python",
   "pygments_lexer": "ipython3",
   "version": "3.5.1"
  }
 },
 "nbformat": 4,
 "nbformat_minor": 0
}

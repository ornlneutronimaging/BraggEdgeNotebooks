{
 "cells": [
  {
   "cell_type": "markdown",
   "metadata": {},
   "source": [
    "I had to import *html5lib* to make it work\n",
    "> conda install html5lib"
   ]
  },
  {
   "cell_type": "code",
   "execution_count": 22,
   "metadata": {
    "collapsed": true
   },
   "outputs": [],
   "source": [
    "import pandas as pd"
   ]
  },
  {
   "cell_type": "code",
   "execution_count": 23,
   "metadata": {
    "collapsed": true
   },
   "outputs": [],
   "source": [
    "url = \"https://en.wikipedia.org/wiki/Lattice_constants\""
   ]
  },
  {
   "cell_type": "code",
   "execution_count": 24,
   "metadata": {
    "collapsed": false
   },
   "outputs": [],
   "source": [
    "table_list = pd.read_html(url)"
   ]
  },
  {
   "cell_type": "code",
   "execution_count": 25,
   "metadata": {
    "collapsed": false
   },
   "outputs": [
    {
     "data": {
      "text/plain": [
       "1"
      ]
     },
     "execution_count": 25,
     "metadata": {},
     "output_type": "execute_result"
    }
   ],
   "source": [
    "len(table_list)"
   ]
  },
  {
   "cell_type": "code",
   "execution_count": 26,
   "metadata": {
    "collapsed": false
   },
   "outputs": [],
   "source": [
    "lattice_constant_table = table_list[0]"
   ]
  },
  {
   "cell_type": "code",
   "execution_count": 27,
   "metadata": {
    "collapsed": false
   },
   "outputs": [
    {
     "name": "stdout",
     "output_type": "stream",
     "text": [
      "(88, 4)\n"
     ]
    }
   ],
   "source": [
    "print(lattice_constant_table.shape)"
   ]
  },
  {
   "cell_type": "code",
   "execution_count": 28,
   "metadata": {
    "collapsed": false
   },
   "outputs": [
    {
     "name": "stdout",
     "output_type": "stream",
     "text": [
      "0    object\n",
      "1    object\n",
      "2    object\n",
      "3    object\n",
      "dtype: object\n"
     ]
    }
   ],
   "source": [
    "print(lattice_constant_table.dtypes)"
   ]
  },
  {
   "cell_type": "markdown",
   "metadata": {},
   "source": [
    "Descriptors for the vertical axis (axis=0)"
   ]
  },
  {
   "cell_type": "code",
   "execution_count": 29,
   "metadata": {
    "collapsed": false
   },
   "outputs": [
    {
     "data": {
      "text/plain": [
       "Int64Index([ 0,  1,  2,  3,  4,  5,  6,  7,  8,  9, 10, 11, 12, 13, 14, 15, 16,\n",
       "            17, 18, 19, 20, 21, 22, 23, 24, 25, 26, 27, 28, 29, 30, 31, 32, 33,\n",
       "            34, 35, 36, 37, 38, 39, 40, 41, 42, 43, 44, 45, 46, 47, 48, 49, 50,\n",
       "            51, 52, 53, 54, 55, 56, 57, 58, 59, 60, 61, 62, 63, 64, 65, 66, 67,\n",
       "            68, 69, 70, 71, 72, 73, 74, 75, 76, 77, 78, 79, 80, 81, 82, 83, 84,\n",
       "            85, 86, 87],\n",
       "           dtype='int64')"
      ]
     },
     "execution_count": 29,
     "metadata": {},
     "output_type": "execute_result"
    }
   ],
   "source": [
    "lattice_constant_table.index"
   ]
  },
  {
   "cell_type": "markdown",
   "metadata": {},
   "source": [
    "Descriptors for the horizontal axis (axis=1)"
   ]
  },
  {
   "cell_type": "code",
   "execution_count": 30,
   "metadata": {
    "collapsed": false
   },
   "outputs": [
    {
     "data": {
      "text/plain": [
       "Int64Index([0, 1, 2, 3], dtype='int64')"
      ]
     },
     "execution_count": 30,
     "metadata": {},
     "output_type": "execute_result"
    }
   ],
   "source": [
    "lattice_constant_table.columns"
   ]
  },
  {
   "cell_type": "markdown",
   "metadata": {},
   "source": [
    "Various info about array"
   ]
  },
  {
   "cell_type": "code",
   "execution_count": 31,
   "metadata": {
    "collapsed": false
   },
   "outputs": [
    {
     "name": "stdout",
     "output_type": "stream",
     "text": [
      "<class 'pandas.core.frame.DataFrame'>\n",
      "Int64Index: 88 entries, 0 to 87\n",
      "Data columns (total 4 columns):\n",
      "0    88 non-null object\n",
      "1    88 non-null object\n",
      "2    88 non-null object\n",
      "3    62 non-null object\n",
      "dtypes: object(4)\n",
      "memory usage: 3.4+ KB\n"
     ]
    }
   ],
   "source": [
    "lattice_constant_table.info()"
   ]
  },
  {
   "cell_type": "code",
   "execution_count": 32,
   "metadata": {
    "collapsed": false
   },
   "outputs": [
    {
     "name": "stdout",
     "output_type": "stream",
     "text": [
      "               0                             1                        2     3\n",
      "0       Material          Lattice Constant (Å)        Crystal Structure   Ref\n",
      "1    C (diamond)                         3.567            Diamond (FCC)   [6]\n",
      "2   C (graphite)            2.461(a); 6.708(c)                Hexagonal   NaN\n",
      "3             Si                         5.431            Diamond (FCC)   [7]\n",
      "4             Ge                         5.658            Diamond (FCC)   [7]\n",
      "5           AlAs                        5.6605        Zinc blende (FCC)   [7]\n",
      "6            AlP                        5.4510        Zinc blende (FCC)   [7]\n",
      "7           AlSb                        6.1355        Zinc blende (FCC)   [7]\n",
      "8            GaP                        5.4505        Zinc blende (FCC)   [7]\n",
      "9           GaAs                         5.653        Zinc blende (FCC)   [7]\n",
      "10          GaSb                        6.0959        Zinc blende (FCC)   [7]\n",
      "11           InP                         5.869        Zinc blende (FCC)   [7]\n",
      "12          InAs                        6.0583        Zinc blende (FCC)   [7]\n",
      "13          InSb                         6.479        Zinc blende (FCC)   [7]\n",
      "14           MgO                         4.212           Rocksalt (FCC)   [1]\n",
      "15           SiC          3.086(a); 10.053 (c)                 Wurtzite   [7]\n",
      "16           CdS                        5.8320        Zinc blende (FCC)   [6]\n",
      "17          CdSe                         6.050        Zinc blende (FCC)   [6]\n",
      "18          CdTe                         6.482        Zinc blende (FCC)   [6]\n",
      "19           ZnO                         4.580           Rocksalt (FCC)   [6]\n",
      "20           ZnS                         5.420        Zinc blende (FCC)   [6]\n",
      "21           PbS                        5.9362           Rocksalt (FCC)   [6]\n",
      "22          PbTe                        6.4620           Rocksalt (FCC)   [6]\n",
      "23            BN                        3.6150        Zinc blende (FCC)   [6]\n",
      "24            BP                        4.5380        Zinc blende (FCC)   [6]\n",
      "25           CdS            4.160(a); 6.756(c)                 Wurtzite   [6]\n",
      "26           ZnS            3.82(a); c=6.26(c)                 Wurtzite   [6]\n",
      "27           AlN            3.112(a); 4.982(c)                 Wurtzite   [7]\n",
      "28           GaN            3.189(a); 5.185(c)                 Wurtzite   [7]\n",
      "29           InN            3.533(a); 5.693(c)                 Wurtzite   [7]\n",
      "..           ...                           ...                      ...   ...\n",
      "58            Au                         4.065                      FCC   [8]\n",
      "59            Pb                         4.920                      FCC   [8]\n",
      "60           TiN                         4.249                 Rocksalt   NaN\n",
      "61           ZrN                         4.577                 Rocksalt   NaN\n",
      "62           HfN                         4.392                 Rocksalt   NaN\n",
      "63            VN                         4.136                 Rocksalt   NaN\n",
      "64           CrN                         4.149                 Rocksalt   NaN\n",
      "65           NbN                         4.392                 Rocksalt   NaN\n",
      "66           TiC                         4.328                 Rocksalt   [9]\n",
      "67       ZrC0.97                         4.698                 Rocksalt   [9]\n",
      "68       HfC0.99                         4.640                 Rocksalt   [9]\n",
      "69        VC0.97                         4.166                 Rocksalt   [9]\n",
      "70        NC0.99                         4.470                 Rocksalt   [9]\n",
      "71       TaC0.99                         4.456                 Rocksalt   [9]\n",
      "72         Cr3C2  11.47(a); 5.545(b); 2.830(c)              Orthorombic   [9]\n",
      "73            WC             2.906(a);2.837(c)                Hexagonal   [9]\n",
      "74           ScN                          4.52                 Rocksalt  [10]\n",
      "75        LiNbO3          5.1483(a);13.8631(c)                Hexagonal  [11]\n",
      "76         KTaO3                     3.9885(a)         Cubic perovskite  [11]\n",
      "77        BaTiO3             3.994(a);4.034(c)    Tetragonal perovskite  [11]\n",
      "78        SrTiO3                    3.98805(a)         Cubic perovskite  [11]\n",
      "79        CaTiO3   5.381(a);5.443(b);7.645(c);  Orthorhombic perovskite  [11]\n",
      "80        PbTiO3            3.904(a);4.152(c);    Tetragonal perovskite  [11]\n",
      "81        EuTiO3                      7.810(a)         Cubic perovskite  [11]\n",
      "82         SrVO3                      3.838(a)         Cubic perovskite  [11]\n",
      "83         CaVO3                      3.767(a)         Cubic perovskite  [11]\n",
      "84        BaMnO3              5.673(a);4.71(c)                Hexagonal  [11]\n",
      "85        CaMnO3    5.27(a);5.275(b);7.464(c);  Orthorhombic perovskite  [11]\n",
      "86        SrRuO3      5.53(a);5.57(b);7.85(c);  Orthorhombic perovskite  [11]\n",
      "87         YAlO3    5.179(a);5.329(b);7.37(c);  Orthorhombic perovskite  [11]\n",
      "\n",
      "[88 rows x 4 columns]\n"
     ]
    }
   ],
   "source": [
    "print(lattice_constant_table)"
   ]
  },
  {
   "cell_type": "code",
   "execution_count": 33,
   "metadata": {
    "collapsed": false
   },
   "outputs": [
    {
     "name": "stdout",
     "output_type": "stream",
     "text": [
      "[['Material' 'Lattice Constant (Å)' 'Crystal Structure' 'Ref']\n",
      " ['C (diamond)' '3.567' 'Diamond (FCC)' '[6]']\n",
      " ['C (graphite)' '2.461(a); 6.708(c)' 'Hexagonal' nan]\n",
      " ['Si' '5.431' 'Diamond (FCC)' '[7]']\n",
      " ['Ge' '5.658' 'Diamond (FCC)' '[7]']\n",
      " ['AlAs' '5.6605' 'Zinc blende (FCC)' '[7]']\n",
      " ['AlP' '5.4510' 'Zinc blende (FCC)' '[7]']\n",
      " ['AlSb' '6.1355' 'Zinc blende (FCC)' '[7]']\n",
      " ['GaP' '5.4505' 'Zinc blende (FCC)' '[7]']\n",
      " ['GaAs' '5.653' 'Zinc blende (FCC)' '[7]']\n",
      " ['GaSb' '6.0959' 'Zinc blende (FCC)' '[7]']\n",
      " ['InP' '5.869' 'Zinc blende (FCC)' '[7]']\n",
      " ['InAs' '6.0583' 'Zinc blende (FCC)' '[7]']\n",
      " ['InSb' '6.479' 'Zinc blende (FCC)' '[7]']\n",
      " ['MgO' '4.212' 'Rocksalt (FCC)' '[1]']\n",
      " ['SiC' '3.086(a); 10.053 (c)' 'Wurtzite' '[7]']\n",
      " ['CdS' '5.8320' 'Zinc blende (FCC)' '[6]']\n",
      " ['CdSe' '6.050' 'Zinc blende (FCC)' '[6]']\n",
      " ['CdTe' '6.482' 'Zinc blende (FCC)' '[6]']\n",
      " ['ZnO' '4.580' 'Rocksalt (FCC)' '[6]']\n",
      " ['ZnS' '5.420' 'Zinc blende (FCC)' '[6]']\n",
      " ['PbS' '5.9362' 'Rocksalt (FCC)' '[6]']\n",
      " ['PbTe' '6.4620' 'Rocksalt (FCC)' '[6]']\n",
      " ['BN' '3.6150' 'Zinc blende (FCC)' '[6]']\n",
      " ['BP' '4.5380' 'Zinc blende (FCC)' '[6]']\n",
      " ['CdS' '4.160(a); 6.756(c)' 'Wurtzite' '[6]']\n",
      " ['ZnS' '3.82(a); c=6.26(c)' 'Wurtzite' '[6]']\n",
      " ['AlN' '3.112(a); 4.982(c)' 'Wurtzite' '[7]']\n",
      " ['GaN' '3.189(a); 5.185(c)' 'Wurtzite' '[7]']\n",
      " ['InN' '3.533(a); 5.693(c)' 'Wurtzite' '[7]']\n",
      " ['LiF' '4.03' 'Rocksalt' nan]\n",
      " ['LiCl' '5.14' 'Rocksalt' nan]\n",
      " ['LiBr' '5.50' 'Rocksalt' nan]\n",
      " ['LiI' '6.01' 'Rocksalt' nan]\n",
      " ['NaF' '4.63' 'Rocksalt' nan]\n",
      " ['NaCl' '5.64' 'Rocksalt' nan]\n",
      " ['NaBr' '5.97' 'Rocksalt' nan]\n",
      " ['NaI' '6.47' 'Rocksalt' nan]\n",
      " ['KF' '5.34' 'Rocksalt' nan]\n",
      " ['KCl' '6.29' 'Rocksalt' nan]\n",
      " ['KBr' '6.60' 'Rocksalt' nan]\n",
      " ['KI' '7.07' 'Rocksalt' nan]\n",
      " ['RbF' '5.65' 'Rocksalt' nan]\n",
      " ['RbCl' '6.59' 'Rocksalt' nan]\n",
      " ['RbBr' '6.89' 'Rocksalt' nan]\n",
      " ['RbI' '7.35' 'Rocksalt' nan]\n",
      " ['CsF' '6.02' 'Rocksalt' nan]\n",
      " ['CsCl' '4.123' 'Cesium Chloride' nan]\n",
      " ['CsI' '4.567' 'Cesium Chloride' nan]\n",
      " ['Al' '4.046' 'FCC' '[8]']\n",
      " ['Fe' '2.856' 'BCC' '[8]']\n",
      " ['Ni' '3.499' 'FCC' '[8]']\n",
      " ['Cu' '3.597' 'FCC' '[8]']\n",
      " ['Mo' '3.142' 'BCC' '[8]']\n",
      " ['Pd' '3.859' 'FCC' '[8]']\n",
      " ['Ag' '4.079' 'FCC' '[8]']\n",
      " ['W' '3.155' 'BCC' '[8]']\n",
      " ['Pt' '3.912' 'FCC' '[8]']\n",
      " ['Au' '4.065' 'FCC' '[8]']\n",
      " ['Pb' '4.920' 'FCC' '[8]']\n",
      " ['TiN' '4.249' 'Rocksalt' nan]\n",
      " ['ZrN' '4.577' 'Rocksalt' nan]\n",
      " ['HfN' '4.392' 'Rocksalt' nan]\n",
      " ['VN' '4.136' 'Rocksalt' nan]\n",
      " ['CrN' '4.149' 'Rocksalt' nan]\n",
      " ['NbN' '4.392' 'Rocksalt' nan]\n",
      " ['TiC' '4.328' 'Rocksalt' '[9]']\n",
      " ['ZrC0.97' '4.698' 'Rocksalt' '[9]']\n",
      " ['HfC0.99' '4.640' 'Rocksalt' '[9]']\n",
      " ['VC0.97' '4.166' 'Rocksalt' '[9]']\n",
      " ['NC0.99' '4.470' 'Rocksalt' '[9]']\n",
      " ['TaC0.99' '4.456' 'Rocksalt' '[9]']\n",
      " ['Cr3C2' '11.47(a); 5.545(b); 2.830(c)' 'Orthorombic' '[9]']\n",
      " ['WC' '2.906(a);2.837(c)' 'Hexagonal' '[9]']\n",
      " ['ScN' '4.52' 'Rocksalt' '[10]']\n",
      " ['LiNbO3' '5.1483(a);13.8631(c)' 'Hexagonal' '[11]']\n",
      " ['KTaO3' '3.9885(a)' 'Cubic perovskite' '[11]']\n",
      " ['BaTiO3' '3.994(a);4.034(c)' 'Tetragonal perovskite' '[11]']\n",
      " ['SrTiO3' '3.98805(a)' 'Cubic perovskite' '[11]']\n",
      " ['CaTiO3' '5.381(a);5.443(b);7.645(c);' 'Orthorhombic perovskite' '[11]']\n",
      " ['PbTiO3' '3.904(a);4.152(c);' 'Tetragonal perovskite' '[11]']\n",
      " ['EuTiO3' '7.810(a)' 'Cubic perovskite' '[11]']\n",
      " ['SrVO3' '3.838(a)' 'Cubic perovskite' '[11]']\n",
      " ['CaVO3' '3.767(a)' 'Cubic perovskite' '[11]']\n",
      " ['BaMnO3' '5.673(a);4.71(c)' 'Hexagonal' '[11]']\n",
      " ['CaMnO3' '5.27(a);5.275(b);7.464(c);' 'Orthorhombic perovskite' '[11]']\n",
      " ['SrRuO3' '5.53(a);5.57(b);7.85(c);' 'Orthorhombic perovskite' '[11]']\n",
      " ['YAlO3' '5.179(a);5.329(b);7.37(c);' 'Orthorhombic perovskite' '[11]']]\n"
     ]
    }
   ],
   "source": [
    "print(lattice_constant_table.values)"
   ]
  },
  {
   "cell_type": "code",
   "execution_count": 34,
   "metadata": {
    "collapsed": false
   },
   "outputs": [
    {
     "name": "stdout",
     "output_type": "stream",
     "text": [
      "['Material' 'Lattice Constant (Å)' 'Crystal Structure' 'Ref']\n"
     ]
    }
   ],
   "source": [
    "print(lattice_constant_table.values[0][:])"
   ]
  },
  {
   "cell_type": "code",
   "execution_count": 35,
   "metadata": {
    "collapsed": false
   },
   "outputs": [],
   "source": [
    "new_lattice_table = lattice_constant_table\n",
    "new_lattice_table.columns = lattice_constant_table.values[0][:]\n",
    "new_lattice_table = new_lattice_table[1:]"
   ]
  },
  {
   "cell_type": "code",
   "execution_count": 36,
   "metadata": {
    "collapsed": false
   },
   "outputs": [
    {
     "name": "stdout",
     "output_type": "stream",
     "text": [
      "        Material          Lattice Constant (Å)        Crystal Structure   Ref\n",
      "1    C (diamond)                         3.567            Diamond (FCC)   [6]\n",
      "2   C (graphite)            2.461(a); 6.708(c)                Hexagonal   NaN\n",
      "3             Si                         5.431            Diamond (FCC)   [7]\n",
      "4             Ge                         5.658            Diamond (FCC)   [7]\n",
      "5           AlAs                        5.6605        Zinc blende (FCC)   [7]\n",
      "6            AlP                        5.4510        Zinc blende (FCC)   [7]\n",
      "7           AlSb                        6.1355        Zinc blende (FCC)   [7]\n",
      "8            GaP                        5.4505        Zinc blende (FCC)   [7]\n",
      "9           GaAs                         5.653        Zinc blende (FCC)   [7]\n",
      "10          GaSb                        6.0959        Zinc blende (FCC)   [7]\n",
      "11           InP                         5.869        Zinc blende (FCC)   [7]\n",
      "12          InAs                        6.0583        Zinc blende (FCC)   [7]\n",
      "13          InSb                         6.479        Zinc blende (FCC)   [7]\n",
      "14           MgO                         4.212           Rocksalt (FCC)   [1]\n",
      "15           SiC          3.086(a); 10.053 (c)                 Wurtzite   [7]\n",
      "16           CdS                        5.8320        Zinc blende (FCC)   [6]\n",
      "17          CdSe                         6.050        Zinc blende (FCC)   [6]\n",
      "18          CdTe                         6.482        Zinc blende (FCC)   [6]\n",
      "19           ZnO                         4.580           Rocksalt (FCC)   [6]\n",
      "20           ZnS                         5.420        Zinc blende (FCC)   [6]\n",
      "21           PbS                        5.9362           Rocksalt (FCC)   [6]\n",
      "22          PbTe                        6.4620           Rocksalt (FCC)   [6]\n",
      "23            BN                        3.6150        Zinc blende (FCC)   [6]\n",
      "24            BP                        4.5380        Zinc blende (FCC)   [6]\n",
      "25           CdS            4.160(a); 6.756(c)                 Wurtzite   [6]\n",
      "26           ZnS            3.82(a); c=6.26(c)                 Wurtzite   [6]\n",
      "27           AlN            3.112(a); 4.982(c)                 Wurtzite   [7]\n",
      "28           GaN            3.189(a); 5.185(c)                 Wurtzite   [7]\n",
      "29           InN            3.533(a); 5.693(c)                 Wurtzite   [7]\n",
      "30           LiF                          4.03                 Rocksalt   NaN\n",
      "..           ...                           ...                      ...   ...\n",
      "58            Au                         4.065                      FCC   [8]\n",
      "59            Pb                         4.920                      FCC   [8]\n",
      "60           TiN                         4.249                 Rocksalt   NaN\n",
      "61           ZrN                         4.577                 Rocksalt   NaN\n",
      "62           HfN                         4.392                 Rocksalt   NaN\n",
      "63            VN                         4.136                 Rocksalt   NaN\n",
      "64           CrN                         4.149                 Rocksalt   NaN\n",
      "65           NbN                         4.392                 Rocksalt   NaN\n",
      "66           TiC                         4.328                 Rocksalt   [9]\n",
      "67       ZrC0.97                         4.698                 Rocksalt   [9]\n",
      "68       HfC0.99                         4.640                 Rocksalt   [9]\n",
      "69        VC0.97                         4.166                 Rocksalt   [9]\n",
      "70        NC0.99                         4.470                 Rocksalt   [9]\n",
      "71       TaC0.99                         4.456                 Rocksalt   [9]\n",
      "72         Cr3C2  11.47(a); 5.545(b); 2.830(c)              Orthorombic   [9]\n",
      "73            WC             2.906(a);2.837(c)                Hexagonal   [9]\n",
      "74           ScN                          4.52                 Rocksalt  [10]\n",
      "75        LiNbO3          5.1483(a);13.8631(c)                Hexagonal  [11]\n",
      "76         KTaO3                     3.9885(a)         Cubic perovskite  [11]\n",
      "77        BaTiO3             3.994(a);4.034(c)    Tetragonal perovskite  [11]\n",
      "78        SrTiO3                    3.98805(a)         Cubic perovskite  [11]\n",
      "79        CaTiO3   5.381(a);5.443(b);7.645(c);  Orthorhombic perovskite  [11]\n",
      "80        PbTiO3            3.904(a);4.152(c);    Tetragonal perovskite  [11]\n",
      "81        EuTiO3                      7.810(a)         Cubic perovskite  [11]\n",
      "82         SrVO3                      3.838(a)         Cubic perovskite  [11]\n",
      "83         CaVO3                      3.767(a)         Cubic perovskite  [11]\n",
      "84        BaMnO3              5.673(a);4.71(c)                Hexagonal  [11]\n",
      "85        CaMnO3    5.27(a);5.275(b);7.464(c);  Orthorhombic perovskite  [11]\n",
      "86        SrRuO3      5.53(a);5.57(b);7.85(c);  Orthorhombic perovskite  [11]\n",
      "87         YAlO3    5.179(a);5.329(b);7.37(c);  Orthorhombic perovskite  [11]\n",
      "\n",
      "[87 rows x 4 columns]\n"
     ]
    }
   ],
   "source": [
    "print(new_lattice_table)"
   ]
  },
  {
   "cell_type": "code",
   "execution_count": 37,
   "metadata": {
    "collapsed": false
   },
   "outputs": [
    {
     "data": {
      "text/plain": [
       "Material                object\n",
       "Lattice Constant (Å)    object\n",
       "Crystal Structure       object\n",
       "Ref                     object\n",
       "dtype: object"
      ]
     },
     "execution_count": 37,
     "metadata": {},
     "output_type": "execute_result"
    }
   ],
   "source": [
    "new_lattice_table.dtypes"
   ]
  },
  {
   "cell_type": "code",
   "execution_count": 38,
   "metadata": {
    "collapsed": false
   },
   "outputs": [
    {
     "data": {
      "text/plain": [
       "'ZrN'"
      ]
     },
     "execution_count": 38,
     "metadata": {},
     "output_type": "execute_result"
    }
   ],
   "source": [
    "new_lattice_table['Material'].max()"
   ]
  },
  {
   "cell_type": "code",
   "execution_count": 39,
   "metadata": {
    "collapsed": true
   },
   "outputs": [],
   "source": [
    "Sorted = new_lattice_table.sort(['Material'], ascending=True)"
   ]
  },
  {
   "cell_type": "code",
   "execution_count": 40,
   "metadata": {
    "collapsed": false
   },
   "outputs": [
    {
     "name": "stdout",
     "output_type": "stream",
     "text": [
      "        Material          Lattice Constant (Å)        Crystal Structure   Ref\n",
      "55            Ag                         4.079                      FCC   [8]\n",
      "49            Al                         4.046                      FCC   [8]\n",
      "5           AlAs                        5.6605        Zinc blende (FCC)   [7]\n",
      "27           AlN            3.112(a); 4.982(c)                 Wurtzite   [7]\n",
      "6            AlP                        5.4510        Zinc blende (FCC)   [7]\n",
      "7           AlSb                        6.1355        Zinc blende (FCC)   [7]\n",
      "58            Au                         4.065                      FCC   [8]\n",
      "23            BN                        3.6150        Zinc blende (FCC)   [6]\n",
      "24            BP                        4.5380        Zinc blende (FCC)   [6]\n",
      "84        BaMnO3              5.673(a);4.71(c)                Hexagonal  [11]\n",
      "77        BaTiO3             3.994(a);4.034(c)    Tetragonal perovskite  [11]\n",
      "1    C (diamond)                         3.567            Diamond (FCC)   [6]\n",
      "2   C (graphite)            2.461(a); 6.708(c)                Hexagonal   NaN\n",
      "85        CaMnO3    5.27(a);5.275(b);7.464(c);  Orthorhombic perovskite  [11]\n",
      "79        CaTiO3   5.381(a);5.443(b);7.645(c);  Orthorhombic perovskite  [11]\n",
      "83         CaVO3                      3.767(a)         Cubic perovskite  [11]\n",
      "25           CdS            4.160(a); 6.756(c)                 Wurtzite   [6]\n",
      "16           CdS                        5.8320        Zinc blende (FCC)   [6]\n",
      "17          CdSe                         6.050        Zinc blende (FCC)   [6]\n",
      "18          CdTe                         6.482        Zinc blende (FCC)   [6]\n",
      "72         Cr3C2  11.47(a); 5.545(b); 2.830(c)              Orthorombic   [9]\n",
      "64           CrN                         4.149                 Rocksalt   NaN\n",
      "47          CsCl                         4.123          Cesium Chloride   NaN\n",
      "46           CsF                          6.02                 Rocksalt   NaN\n",
      "48           CsI                         4.567          Cesium Chloride   NaN\n",
      "52            Cu                         3.597                      FCC   [8]\n",
      "81        EuTiO3                      7.810(a)         Cubic perovskite  [11]\n",
      "50            Fe                         2.856                      BCC   [8]\n",
      "9           GaAs                         5.653        Zinc blende (FCC)   [7]\n",
      "28           GaN            3.189(a); 5.185(c)                 Wurtzite   [7]\n",
      "..           ...                           ...                      ...   ...\n",
      "51            Ni                         3.499                      FCC   [8]\n",
      "59            Pb                         4.920                      FCC   [8]\n",
      "21           PbS                        5.9362           Rocksalt (FCC)   [6]\n",
      "22          PbTe                        6.4620           Rocksalt (FCC)   [6]\n",
      "80        PbTiO3            3.904(a);4.152(c);    Tetragonal perovskite  [11]\n",
      "54            Pd                         3.859                      FCC   [8]\n",
      "57            Pt                         3.912                      FCC   [8]\n",
      "44          RbBr                          6.89                 Rocksalt   NaN\n",
      "43          RbCl                          6.59                 Rocksalt   NaN\n",
      "42           RbF                          5.65                 Rocksalt   NaN\n",
      "45           RbI                          7.35                 Rocksalt   NaN\n",
      "74           ScN                          4.52                 Rocksalt  [10]\n",
      "3             Si                         5.431            Diamond (FCC)   [7]\n",
      "15           SiC          3.086(a); 10.053 (c)                 Wurtzite   [7]\n",
      "86        SrRuO3      5.53(a);5.57(b);7.85(c);  Orthorhombic perovskite  [11]\n",
      "78        SrTiO3                    3.98805(a)         Cubic perovskite  [11]\n",
      "82         SrVO3                      3.838(a)         Cubic perovskite  [11]\n",
      "71       TaC0.99                         4.456                 Rocksalt   [9]\n",
      "66           TiC                         4.328                 Rocksalt   [9]\n",
      "60           TiN                         4.249                 Rocksalt   NaN\n",
      "69        VC0.97                         4.166                 Rocksalt   [9]\n",
      "63            VN                         4.136                 Rocksalt   NaN\n",
      "56             W                         3.155                      BCC   [8]\n",
      "73            WC             2.906(a);2.837(c)                Hexagonal   [9]\n",
      "87         YAlO3    5.179(a);5.329(b);7.37(c);  Orthorhombic perovskite  [11]\n",
      "19           ZnO                         4.580           Rocksalt (FCC)   [6]\n",
      "26           ZnS            3.82(a); c=6.26(c)                 Wurtzite   [6]\n",
      "20           ZnS                         5.420        Zinc blende (FCC)   [6]\n",
      "67       ZrC0.97                         4.698                 Rocksalt   [9]\n",
      "61           ZrN                         4.577                 Rocksalt   NaN\n",
      "\n",
      "[87 rows x 4 columns]\n"
     ]
    }
   ],
   "source": [
    "print(Sorted)"
   ]
  },
  {
   "cell_type": "code",
   "execution_count": 41,
   "metadata": {
    "collapsed": false
   },
   "outputs": [
    {
     "data": {
      "text/plain": [
       "Int64Index([ 1,  2,  3,  4,  5,  6,  7,  8,  9, 10, 11, 12, 13, 14, 15, 16, 17,\n",
       "            18, 19, 20, 21, 22, 23, 24, 25, 26, 27, 28, 29, 30, 31, 32, 33, 34,\n",
       "            35, 36, 37, 38, 39, 40, 41, 42, 43, 44, 45, 46, 47, 48, 49, 50, 51,\n",
       "            52, 53, 54, 55, 56, 57, 58, 59, 60, 61, 62, 63, 64, 65, 66, 67, 68,\n",
       "            69, 70, 71, 72, 73, 74, 75, 76, 77, 78, 79, 80, 81, 82, 83, 84, 85,\n",
       "            86, 87],\n",
       "           dtype='int64')"
      ]
     },
     "execution_count": 41,
     "metadata": {},
     "output_type": "execute_result"
    }
   ],
   "source": [
    "new_lattice_table.index"
   ]
  },
  {
   "cell_type": "code",
   "execution_count": 42,
   "metadata": {
    "collapsed": false
   },
   "outputs": [
    {
     "data": {
      "text/plain": [
       "Index(['Material', 'Lattice Constant (Å)', 'Crystal Structure', 'Ref'], dtype='object')"
      ]
     },
     "execution_count": 42,
     "metadata": {},
     "output_type": "execute_result"
    }
   ],
   "source": [
    "new_lattice_table.columns"
   ]
  },
  {
   "cell_type": "code",
   "execution_count": 43,
   "metadata": {
    "collapsed": false
   },
   "outputs": [],
   "source": [
    "final_lattice = new_lattice_table.set_index(\"Material\")"
   ]
  },
  {
   "cell_type": "code",
   "execution_count": 44,
   "metadata": {
    "collapsed": false
   },
   "outputs": [
    {
     "name": "stdout",
     "output_type": "stream",
     "text": [
      "                      Lattice Constant (Å)        Crystal Structure   Ref\n",
      "Material                                                                 \n",
      "C (diamond)                          3.567            Diamond (FCC)   [6]\n",
      "C (graphite)            2.461(a); 6.708(c)                Hexagonal   NaN\n",
      "Si                                   5.431            Diamond (FCC)   [7]\n",
      "Ge                                   5.658            Diamond (FCC)   [7]\n",
      "AlAs                                5.6605        Zinc blende (FCC)   [7]\n",
      "AlP                                 5.4510        Zinc blende (FCC)   [7]\n",
      "AlSb                                6.1355        Zinc blende (FCC)   [7]\n",
      "GaP                                 5.4505        Zinc blende (FCC)   [7]\n",
      "GaAs                                 5.653        Zinc blende (FCC)   [7]\n",
      "GaSb                                6.0959        Zinc blende (FCC)   [7]\n",
      "InP                                  5.869        Zinc blende (FCC)   [7]\n",
      "InAs                                6.0583        Zinc blende (FCC)   [7]\n",
      "InSb                                 6.479        Zinc blende (FCC)   [7]\n",
      "MgO                                  4.212           Rocksalt (FCC)   [1]\n",
      "SiC                   3.086(a); 10.053 (c)                 Wurtzite   [7]\n",
      "CdS                                 5.8320        Zinc blende (FCC)   [6]\n",
      "CdSe                                 6.050        Zinc blende (FCC)   [6]\n",
      "CdTe                                 6.482        Zinc blende (FCC)   [6]\n",
      "ZnO                                  4.580           Rocksalt (FCC)   [6]\n",
      "ZnS                                  5.420        Zinc blende (FCC)   [6]\n",
      "PbS                                 5.9362           Rocksalt (FCC)   [6]\n",
      "PbTe                                6.4620           Rocksalt (FCC)   [6]\n",
      "BN                                  3.6150        Zinc blende (FCC)   [6]\n",
      "BP                                  4.5380        Zinc blende (FCC)   [6]\n",
      "CdS                     4.160(a); 6.756(c)                 Wurtzite   [6]\n",
      "ZnS                     3.82(a); c=6.26(c)                 Wurtzite   [6]\n",
      "AlN                     3.112(a); 4.982(c)                 Wurtzite   [7]\n",
      "GaN                     3.189(a); 5.185(c)                 Wurtzite   [7]\n",
      "InN                     3.533(a); 5.693(c)                 Wurtzite   [7]\n",
      "LiF                                   4.03                 Rocksalt   NaN\n",
      "...                                    ...                      ...   ...\n",
      "Au                                   4.065                      FCC   [8]\n",
      "Pb                                   4.920                      FCC   [8]\n",
      "TiN                                  4.249                 Rocksalt   NaN\n",
      "ZrN                                  4.577                 Rocksalt   NaN\n",
      "HfN                                  4.392                 Rocksalt   NaN\n",
      "VN                                   4.136                 Rocksalt   NaN\n",
      "CrN                                  4.149                 Rocksalt   NaN\n",
      "NbN                                  4.392                 Rocksalt   NaN\n",
      "TiC                                  4.328                 Rocksalt   [9]\n",
      "ZrC0.97                              4.698                 Rocksalt   [9]\n",
      "HfC0.99                              4.640                 Rocksalt   [9]\n",
      "VC0.97                               4.166                 Rocksalt   [9]\n",
      "NC0.99                               4.470                 Rocksalt   [9]\n",
      "TaC0.99                              4.456                 Rocksalt   [9]\n",
      "Cr3C2         11.47(a); 5.545(b); 2.830(c)              Orthorombic   [9]\n",
      "WC                       2.906(a);2.837(c)                Hexagonal   [9]\n",
      "ScN                                   4.52                 Rocksalt  [10]\n",
      "LiNbO3                5.1483(a);13.8631(c)                Hexagonal  [11]\n",
      "KTaO3                            3.9885(a)         Cubic perovskite  [11]\n",
      "BaTiO3                   3.994(a);4.034(c)    Tetragonal perovskite  [11]\n",
      "SrTiO3                          3.98805(a)         Cubic perovskite  [11]\n",
      "CaTiO3         5.381(a);5.443(b);7.645(c);  Orthorhombic perovskite  [11]\n",
      "PbTiO3                  3.904(a);4.152(c);    Tetragonal perovskite  [11]\n",
      "EuTiO3                            7.810(a)         Cubic perovskite  [11]\n",
      "SrVO3                             3.838(a)         Cubic perovskite  [11]\n",
      "CaVO3                             3.767(a)         Cubic perovskite  [11]\n",
      "BaMnO3                    5.673(a);4.71(c)                Hexagonal  [11]\n",
      "CaMnO3          5.27(a);5.275(b);7.464(c);  Orthorhombic perovskite  [11]\n",
      "SrRuO3            5.53(a);5.57(b);7.85(c);  Orthorhombic perovskite  [11]\n",
      "YAlO3           5.179(a);5.329(b);7.37(c);  Orthorhombic perovskite  [11]\n",
      "\n",
      "[87 rows x 3 columns]\n"
     ]
    }
   ],
   "source": [
    "print(final_lattice)"
   ]
  },
  {
   "cell_type": "code",
   "execution_count": 46,
   "metadata": {
    "collapsed": false,
    "scrolled": true
   },
   "outputs": [
    {
     "name": "stdout",
     "output_type": "stream",
     "text": [
      "Lattice Constant (Å)            5.431\n",
      "Crystal Structure       Diamond (FCC)\n",
      "Ref                               [7]\n",
      "Name: Si, dtype: object\n"
     ]
    }
   ],
   "source": [
    "print(final_lattice.loc['Si'])"
   ]
  },
  {
   "cell_type": "code",
   "execution_count": 48,
   "metadata": {
    "collapsed": false
   },
   "outputs": [
    {
     "data": {
      "text/plain": [
       "'5.431'"
      ]
     },
     "execution_count": 48,
     "metadata": {},
     "output_type": "execute_result"
    }
   ],
   "source": [
    "final_lattice.loc['Si'][0]"
   ]
  },
  {
   "cell_type": "code",
   "execution_count": 51,
   "metadata": {
    "collapsed": false
   },
   "outputs": [
    {
     "data": {
      "text/plain": [
       "False"
      ]
     },
     "execution_count": 51,
     "metadata": {},
     "output_type": "execute_result"
    }
   ],
   "source": [
    "'BCC' in final_lattice.loc['Si'][1]"
   ]
  },
  {
   "cell_type": "markdown",
   "metadata": {},
   "source": [
    "### Save table into csv file to retrieve it locally via braggedge libraries"
   ]
  },
  {
   "cell_type": "code",
   "execution_count": 53,
   "metadata": {
    "collapsed": false
   },
   "outputs": [
    {
     "data": {
      "text/plain": [
       "'/Users/j35/git/braggedge/notebook'"
      ]
     },
     "execution_count": 53,
     "metadata": {},
     "output_type": "execute_result"
    }
   ],
   "source": [
    "pwd"
   ]
  },
  {
   "cell_type": "code",
   "execution_count": 54,
   "metadata": {
    "collapsed": false
   },
   "outputs": [],
   "source": [
    "final_lattice.to_csv(path_or_buf = '/Users/j35/Desktop/tmp.txt')"
   ]
  },
  {
   "cell_type": "markdown",
   "metadata": {},
   "source": [
    "### reloading the csv file created "
   ]
  },
  {
   "cell_type": "code",
   "execution_count": 55,
   "metadata": {
    "collapsed": true
   },
   "outputs": [],
   "source": [
    "file_name = '/Users/j35/git/braggedge/data/material_list.dat'"
   ]
  },
  {
   "cell_type": "code",
   "execution_count": 56,
   "metadata": {
    "collapsed": true
   },
   "outputs": [],
   "source": [
    "import os"
   ]
  },
  {
   "cell_type": "code",
   "execution_count": 57,
   "metadata": {
    "collapsed": false
   },
   "outputs": [
    {
     "data": {
      "text/plain": [
       "True"
      ]
     },
     "execution_count": 57,
     "metadata": {},
     "output_type": "execute_result"
    }
   ],
   "source": [
    "os.path.isfile(file_name)"
   ]
  },
  {
   "cell_type": "code",
   "execution_count": 58,
   "metadata": {
    "collapsed": true
   },
   "outputs": [],
   "source": [
    "dat_table = pd.read_csv(file_name)"
   ]
  },
  {
   "cell_type": "code",
   "execution_count": 59,
   "metadata": {
    "collapsed": false
   },
   "outputs": [
    {
     "name": "stdout",
     "output_type": "stream",
     "text": [
      "        Material          Lattice Constant (Å)        Crystal Structure   Ref\n",
      "0    C (diamond)                         3.567            Diamond (FCC)   [6]\n",
      "1   C (graphite)            2.461(a); 6.708(c)                Hexagonal   NaN\n",
      "2             Si                         5.431            Diamond (FCC)   [7]\n",
      "3             Ge                         5.658            Diamond (FCC)   [7]\n",
      "4           AlAs                        5.6605        Zinc blende (FCC)   [7]\n",
      "5            AlP                        5.4510        Zinc blende (FCC)   [7]\n",
      "6           AlSb                        6.1355        Zinc blende (FCC)   [7]\n",
      "7            GaP                        5.4505        Zinc blende (FCC)   [7]\n",
      "8           GaAs                         5.653        Zinc blende (FCC)   [7]\n",
      "9           GaSb                        6.0959        Zinc blende (FCC)   [7]\n",
      "10           InP                         5.869        Zinc blende (FCC)   [7]\n",
      "11          InAs                        6.0583        Zinc blende (FCC)   [7]\n",
      "12          InSb                         6.479        Zinc blende (FCC)   [7]\n",
      "13           MgO                         4.212           Rocksalt (FCC)   [1]\n",
      "14           SiC          3.086(a); 10.053 (c)                 Wurtzite   [7]\n",
      "15           CdS                        5.8320        Zinc blende (FCC)   [6]\n",
      "16          CdSe                         6.050        Zinc blende (FCC)   [6]\n",
      "17          CdTe                         6.482        Zinc blende (FCC)   [6]\n",
      "18           ZnO                         4.580           Rocksalt (FCC)   [6]\n",
      "19           ZnS                         5.420        Zinc blende (FCC)   [6]\n",
      "20           PbS                        5.9362           Rocksalt (FCC)   [6]\n",
      "21          PbTe                        6.4620           Rocksalt (FCC)   [6]\n",
      "22            BN                        3.6150        Zinc blende (FCC)   [6]\n",
      "23            BP                        4.5380        Zinc blende (FCC)   [6]\n",
      "24           CdS            4.160(a); 6.756(c)                 Wurtzite   [6]\n",
      "25           ZnS            3.82(a); c=6.26(c)                 Wurtzite   [6]\n",
      "26           AlN            3.112(a); 4.982(c)                 Wurtzite   [7]\n",
      "27           GaN            3.189(a); 5.185(c)                 Wurtzite   [7]\n",
      "28           InN            3.533(a); 5.693(c)                 Wurtzite   [7]\n",
      "29           LiF                          4.03                 Rocksalt   NaN\n",
      "..           ...                           ...                      ...   ...\n",
      "57            Au                         4.065                      FCC   [8]\n",
      "58            Pb                         4.920                      FCC   [8]\n",
      "59           TiN                         4.249                 Rocksalt   NaN\n",
      "60           ZrN                         4.577                 Rocksalt   NaN\n",
      "61           HfN                         4.392                 Rocksalt   NaN\n",
      "62            VN                         4.136                 Rocksalt   NaN\n",
      "63           CrN                         4.149                 Rocksalt   NaN\n",
      "64           NbN                         4.392                 Rocksalt   NaN\n",
      "65           TiC                         4.328                 Rocksalt   [9]\n",
      "66       ZrC0.97                         4.698                 Rocksalt   [9]\n",
      "67       HfC0.99                         4.640                 Rocksalt   [9]\n",
      "68        VC0.97                         4.166                 Rocksalt   [9]\n",
      "69        NC0.99                         4.470                 Rocksalt   [9]\n",
      "70       TaC0.99                         4.456                 Rocksalt   [9]\n",
      "71         Cr3C2  11.47(a); 5.545(b); 2.830(c)              Orthorombic   [9]\n",
      "72            WC             2.906(a);2.837(c)                Hexagonal   [9]\n",
      "73           ScN                          4.52                 Rocksalt  [10]\n",
      "74        LiNbO3          5.1483(a);13.8631(c)                Hexagonal  [11]\n",
      "75         KTaO3                     3.9885(a)         Cubic perovskite  [11]\n",
      "76        BaTiO3             3.994(a);4.034(c)    Tetragonal perovskite  [11]\n",
      "77        SrTiO3                    3.98805(a)         Cubic perovskite  [11]\n",
      "78        CaTiO3   5.381(a);5.443(b);7.645(c);  Orthorhombic perovskite  [11]\n",
      "79        PbTiO3            3.904(a);4.152(c);    Tetragonal perovskite  [11]\n",
      "80        EuTiO3                      7.810(a)         Cubic perovskite  [11]\n",
      "81         SrVO3                      3.838(a)         Cubic perovskite  [11]\n",
      "82         CaVO3                      3.767(a)         Cubic perovskite  [11]\n",
      "83        BaMnO3              5.673(a);4.71(c)                Hexagonal  [11]\n",
      "84        CaMnO3    5.27(a);5.275(b);7.464(c);  Orthorhombic perovskite  [11]\n",
      "85        SrRuO3      5.53(a);5.57(b);7.85(c);  Orthorhombic perovskite  [11]\n",
      "86         YAlO3    5.179(a);5.329(b);7.37(c);  Orthorhombic perovskite  [11]\n",
      "\n",
      "[87 rows x 4 columns]\n"
     ]
    }
   ],
   "source": [
    "print(dat_table)"
   ]
  },
  {
   "cell_type": "code",
   "execution_count": 63,
   "metadata": {
    "collapsed": false
   },
   "outputs": [],
   "source": [
    "dat_table = dat_table.set_index(\"Material\")"
   ]
  },
  {
   "cell_type": "code",
   "execution_count": 64,
   "metadata": {
    "collapsed": false
   },
   "outputs": [
    {
     "data": {
      "text/plain": [
       "Lattice Constant (Å)            5.431\n",
       "Crystal Structure       Diamond (FCC)\n",
       "Ref                               [7]\n",
       "Name: Si, dtype: object"
      ]
     },
     "execution_count": 64,
     "metadata": {},
     "output_type": "execute_result"
    }
   ],
   "source": [
    "dat_table.loc['Si']"
   ]
  },
  {
   "cell_type": "code",
   "execution_count": null,
   "metadata": {
    "collapsed": true
   },
   "outputs": [],
   "source": []
  }
 ],
 "metadata": {
  "kernelspec": {
   "display_name": "Python 3",
   "language": "python",
   "name": "python3"
  },
  "language_info": {
   "codemirror_mode": {
    "name": "ipython",
    "version": 3
   },
   "file_extension": ".py",
   "mimetype": "text/x-python",
   "name": "python",
   "nbconvert_exporter": "python",
   "pygments_lexer": "ipython3",
   "version": "3.4.4"
  }
 },
 "nbformat": 4,
 "nbformat_minor": 0
}

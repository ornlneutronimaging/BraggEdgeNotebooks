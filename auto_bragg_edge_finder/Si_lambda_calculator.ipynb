{
 "cells": [
  {
   "cell_type": "code",
   "execution_count": 2,
   "metadata": {
    "collapsed": false
   },
   "outputs": [],
   "source": [
    "import neutronbraggedge"
   ]
  },
  {
   "cell_type": "code",
   "execution_count": 1,
   "metadata": {
    "collapsed": true
   },
   "outputs": [],
   "source": [
    "%gui qt"
   ]
  },
  {
   "cell_type": "code",
   "execution_count": 8,
   "metadata": {
    "collapsed": true
   },
   "outputs": [],
   "source": [
    "from PyQt4 import QtCore, QtGui\n",
    "\n",
    "def gui_fname(dir=None):\n",
    "    \"\"\"Select a file via a dialog and returns the file name.\"\"\"\n",
    "    if dir is None: dir ='./'\n",
    "    fname = QtGui.QFileDialog.getOpenFileName(None, \"Select TOF spectra file...\", \n",
    "                                            dir, \n",
    "                                            filter = \"txt (*.txt);; All files (*)\")\n",
    "    return fname"
   ]
  },
  {
   "cell_type": "code",
   "execution_count": 9,
   "metadata": {
    "collapsed": true
   },
   "outputs": [],
   "source": [
    "# Default folder\n",
    "default_dir = '/Volumes/Macintosh HD 2/IPTS/TOF_Si_powder'"
   ]
  },
  {
   "cell_type": "code",
   "execution_count": 10,
   "metadata": {
    "collapsed": true
   },
   "outputs": [],
   "source": [
    "%gui qt\n",
    "tof_spectra_file = gui_fname(dir = default_dir)"
   ]
  },
  {
   "cell_type": "code",
   "execution_count": 13,
   "metadata": {
    "collapsed": true
   },
   "outputs": [],
   "source": [
    "from neutronbraggedge.experiment_handler import *"
   ]
  },
  {
   "cell_type": "code",
   "execution_count": 17,
   "metadata": {
    "collapsed": false
   },
   "outputs": [],
   "source": [
    "_tof_handler = TOF(filename = tof_spectra_file)"
   ]
  },
  {
   "cell_type": "code",
   "execution_count": 15,
   "metadata": {
    "collapsed": true
   },
   "outputs": [],
   "source": [
    "distance_source_detector_m = 16.09\n",
    "detector_offset_micros = 4500"
   ]
  },
  {
   "cell_type": "code",
   "execution_count": 18,
   "metadata": {
    "collapsed": false
   },
   "outputs": [],
   "source": [
    "_exp = Experiment(tof = _tof_handler.tof_array, \n",
    "                  distance_source_detector_m=distance_source_detector_m, \n",
    "                  detector_offset_micros=detector_offset_micros)"
   ]
  },
  {
   "cell_type": "code",
   "execution_count": 19,
   "metadata": {
    "collapsed": true
   },
   "outputs": [],
   "source": [
    "from pprint import pprint"
   ]
  },
  {
   "cell_type": "code",
   "execution_count": 20,
   "metadata": {
    "collapsed": false
   },
   "outputs": [
    {
     "name": "stdout",
     "output_type": "stream",
     "text": [
      "array([  1.10664704e-10,   1.10916474e-10,   1.11168244e-10, ...,\n",
      "         5.00496082e-10,   5.00746868e-10,   5.00997655e-10])\n"
     ]
    }
   ],
   "source": [
    "pprint(_exp.lambda_array)"
   ]
  },
  {
   "cell_type": "code",
   "execution_count": 21,
   "metadata": {
    "collapsed": true
   },
   "outputs": [],
   "source": [
    "lambda_file = default_dir + '/lambda.txt'\n",
    "_exp.export_lambda(filename = lambda_file)"
   ]
  },
  {
   "cell_type": "code",
   "execution_count": null,
   "metadata": {
    "collapsed": true
   },
   "outputs": [],
   "source": []
  }
 ],
 "metadata": {
  "kernelspec": {
   "display_name": "Python 3",
   "language": "python",
   "name": "python3"
  },
  "language_info": {
   "codemirror_mode": {
    "name": "ipython",
    "version": 3
   },
   "file_extension": ".py",
   "mimetype": "text/x-python",
   "name": "python",
   "nbconvert_exporter": "python",
   "pygments_lexer": "ipython3",
   "version": "3.4.4"
  }
 },
 "nbformat": 4,
 "nbformat_minor": 0
}

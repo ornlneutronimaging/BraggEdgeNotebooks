{
 "cells": [
  {
   "cell_type": "code",
   "execution_count": 1,
   "metadata": {
    "collapsed": false
   },
   "outputs": [
    {
     "data": {
      "text/html": [
       "<style>\n",
       "\n",
       "/* The following CSS has been adapted from\n",
       "   http://nbviewer.ipython.org/github/ketch/teaching-numerics-with-notebooks/blob/master/Styling_notebooks.ipynb\n",
       "   by Aron Ahmadia and David Ketcheson and has been reused under CC BY 4.0\n",
       "   */\n",
       "\n",
       "/* main background */\n",
       "#site { \n",
       "    background: #888;\n",
       "    color: #red; \n",
       "}\n",
       "\n",
       "div.container {\n",
       "    width: 100% ! important;\n",
       "}\n",
       "\n",
       "div.cell { /* set cell width to about 80 chars */\n",
       "    width: 95%;\n",
       "}\n",
       "\n",
       "div #notebook { /* centre the content */\n",
       "/*    background: #fff; /* white background for content */\n",
       "    background: blue;\n",
       "    width: 100%;\n",
       "    margin: auto;\n",
       "    padding-left: 1em;\n",
       "    padding-right: 1em;\n",
       "    background-image: url(\"tile_background.jpg\");\n",
       "}\n",
       "\n",
       "#notebook li { /* More space between bullet points */\n",
       "    margin-top:0.4em;\n",
       "}\n",
       "\n",
       "/* change background color of running cells */\n",
       "div.cell.code_cell.running {\n",
       "/*    background-color: rgba(164,188,194,.75); */\n",
       "    background-color: green;\n",
       "    border-width: 8px\n",
       "    border-style: solid\n",
       "    border-color: #111;\n",
       "}\n",
       "\n",
       "/* Put a solid color box around each cell and its output, visually linking them together */\n",
       "div.cell.code_cell {\n",
       "    background-color: rgba(164,188,194,.25); /* Continuum L Gray with alpha 0.25 */\n",
       "    border-radius: 10px; /* rounded borders */\n",
       "    padding: 1em;\n",
       "    margin-top: 1em;\n",
       "}\n",
       "\n",
       "div.text_cell_render{\n",
       "\tfont-family: Georgia, Times, 'Times New Roman', serif;\n",
       "    line-height: 110%;\n",
       "    font-size: 105%;\n",
       "    width: 95%;\n",
       "    margin-left: auto;\n",
       "    margin-right: auto;\n",
       "}\n",
       "\n",
       "\n",
       "/* Formatting for header cells */\n",
       ".text_cell_render h1 {\n",
       "\tfont-family: Arial, 'Helvetica Neue', Helvetica, sans-serif;\n",
       "    font-weight: 400;\n",
       "    font-size: 30pt;\n",
       "    line-height: 100%;\n",
       "    color: rgb(37,55,70); /* Continuum Blue*/\n",
       "    margin-bottom: 0.1em;\n",
       "    margin-top: 0.1em;\n",
       "    display: block;\n",
       "}\n",
       ".text_cell_render h2 {\n",
       "\tfont-family: Arial, 'Helvetica Neue', Helvetica, sans-serif;\n",
       "    font-weight: 700;\n",
       "    font-size: 22pt;\n",
       "    line-height: 100%;\n",
       "    color: rgb(37,55,70);\n",
       "    margin-bottom: 0.1em;\n",
       "    margin-top: 0.1em;\n",
       "    display: block;\n",
       "}\n",
       "\n",
       ".text_cell_render h3 {\n",
       "\tfont-family: Arial, 'Helvetica Neue', Helvetica, sans-serif;\n",
       "    margin-top:12px;\n",
       "    margin-bottom: 3px;\n",
       "    font-style: italic;\n",
       "    color: rgb(37, 55, 70);\n",
       "}\n",
       "\n",
       ".text_cell_render h4 {\n",
       "\tfont-family: Arial, 'Helvetica Neue', Helvetica, sans-serif;\n",
       "}\n",
       "\n",
       ".text_cell_render h5 {\n",
       "\tfont-family: Arial, 'Helvetica Neue', Helvetica, sans-serif;\n",
       "    font-weight: 300;\n",
       "    font-size: 14pt;\n",
       "    font-style: italic;\n",
       "    margin-bottom: .1em;\n",
       "    margin-top: 0.1em;\n",
       "    display: block;\n",
       "}\n",
       "\n",
       ".text_cell_render h6 {\n",
       "\tfont-family: Arial, 'Helvetica Neue', Helvetica, sans-serif;\n",
       "    font-weight: 300;\n",
       "    font-size: 10pt;\n",
       "    margin-bottom: 1px;\n",
       "    margin-top: 1px;\n",
       "}\n",
       "\n",
       ".CodeMirror{\n",
       "        font-family: \"PT Mono\", fixed;\n",
       "        font-size: 100%;\n",
       "}\n",
       "\n",
       "#notebook_panel { /* main background */\n",
       "    background-image: url(\"tile_background.jpg\");\n",
       "}\n",
       "\n",
       "\n",
       "\n",
       "\n",
       "</style>\n"
      ],
      "text/plain": [
       "<IPython.core.display.HTML object>"
      ]
     },
     "execution_count": 1,
     "metadata": {},
     "output_type": "execute_result"
    }
   ],
   "source": [
    "import custom_style; \n",
    "custom_style.style()"
   ]
  },
  {
   "cell_type": "code",
   "execution_count": 2,
   "metadata": {
    "collapsed": false
   },
   "outputs": [],
   "source": [
    "import os\n",
    "import sys\n",
    "import numpy as np\n",
    "import matplotlib.patches as patches\n",
    "import matplotlib.pyplot as plt\n",
    "%matplotlib inline\n",
    "\n",
    "from pprint import pprint\n",
    "\n",
    "import datetime\n",
    "import glob\n",
    "\n",
    "from ipywidgets import widgets\n",
    "from IPython.display import display\n",
    "from ipywidgets.widgets import interact\n",
    "\n",
    "import gui_widgets\n",
    "import load_handler"
   ]
  },
  {
   "cell_type": "code",
   "execution_count": 3,
   "metadata": {
    "collapsed": false,
    "format": "row"
   },
   "outputs": [],
   "source": [
    "%gui qt"
   ]
  },
  {
   "cell_type": "markdown",
   "metadata": {},
   "source": [
    "## Loading FITS folder"
   ]
  },
  {
   "cell_type": "code",
   "execution_count": 4,
   "metadata": {
    "collapsed": true
   },
   "outputs": [],
   "source": [
    "default_dir = '/Volumes/my_book_thunderbolt_duo/IPTS/'"
   ]
  },
  {
   "cell_type": "code",
   "execution_count": 5,
   "metadata": {
    "collapsed": false
   },
   "outputs": [],
   "source": [
    "%gui qt\n",
    "dir_name = gui_widgets.gui_dname(dir = default_dir)\n",
    "base_name = os.path.basename(dir_name)\n",
    "\n",
    "# get list of files (*.fits)\n",
    "list_files = glob.glob(dir_name + \"/*.fits\")\n",
    "\n",
    "# remove from list *_SummedImg.fits fille\n",
    "list_files = [file for file in list_files if not \"_SummedImg.fits\" in file] \n",
    "\n",
    "# =================================\n",
    "# Load Data\n",
    "# =================================\n",
    "w = widgets.IntProgress(descrption='Loading data')\n",
    "w.max = len(list_files)\n",
    "display(w)\n",
    "\n",
    "data = []\n",
    "for _index, _file in enumerate(list_files):\n",
    "    _image = load_handler.load_data(_file)\n",
    "    data.append(_image)\n",
    "    w.value = _index + 1\n",
    "\n",
    "w.visible = False"
   ]
  },
  {
   "cell_type": "markdown",
   "metadata": {},
   "source": [
    "### Crop Region"
   ]
  },
  {
   "cell_type": "code",
   "execution_count": 6,
   "metadata": {
    "collapsed": false
   },
   "outputs": [
    {
     "data": {
      "text/plain": [
       "[0, 19, 0, 19]"
      ]
     },
     "metadata": {},
     "output_type": "display_data"
    },
    {
     "data": {
      "image/png": "[encoded data removed]",
      "text/plain": [
       "<matplotlib.figure.Figure at 0x12c5dc240>"
      ]
     },
     "metadata": {},
     "output_type": "display_data"
    }
   ],
   "source": [
    "[height, width] = data[0].shape\n",
    "\n",
    "def plot_image_for_cropping(file_index, x_left, x_right, y_top, y_bottom):\n",
    "    \n",
    "    fig = plt.figure(figsize=(10,10))\n",
    "    ax_img = plt.subplot(111)\n",
    "    ax_img.imshow(data[file_index])\n",
    "    \n",
    "#    _title = os.path.basename(list_files[file_index])\n",
    "#    ax_img.set_title(_title)\n",
    "    ax_img.set_title(\"Select Region To Crop\", fontsize=15)\n",
    "    ax_img.set_xlabel(\"Pixel x\")\n",
    "    ax_img.set_ylabel(\"Pixel Y\")\n",
    " \n",
    "    _rectangle = patches.Rectangle(\n",
    "        (x_left, y_top),\n",
    "        x_right - x_left,\n",
    "        y_bottom - y_top,\n",
    "        edgecolor = \"white\",\n",
    "        linewidth = 2,\n",
    "        fill = False)\n",
    "    ax_img.add_patch(_rectangle)\n",
    "\n",
    "    return [x_left, x_right, y_top, y_bottom]\n",
    "\n",
    "number_of_files = len(list_files)\n",
    "crop = interact(plot_image_for_cropping,\n",
    "        file_index =widgets.IntSlider(min=0, \n",
    "                                      max=number_of_files-1,\n",
    "                                      step=1, value=0, \n",
    "                                      description='Image index'),\n",
    "        x_left = widgets.IntSlider(min=0, max=width-1, step=1, value=295),\n",
    "        x_right = widgets.IntSlider(min=0, max=width-1, step=1, value=445),\n",
    "        y_top = widgets.IntSlider(min=0, max=height-1, step=1, value=5), \n",
    "        y_bottom = widgets.IntSlider(min=0, max=height-1, step=1, value=500))"
   ]
  },
  {
   "cell_type": "code",
   "execution_count": 9,
   "metadata": {
    "collapsed": false
   },
   "outputs": [],
   "source": [
    "[x_left, x_right, y_top, y_bottom] = crop.widget.result\n",
    "\n",
    "w = widgets.IntProgress(descrption='Cropping data')\n",
    "w.max = len(list_files)\n",
    "display(w)\n",
    "\n",
    "# calculate cropped regions\n",
    "cropped_data = []\n",
    "for index, _data in enumerate(data):\n",
    "    _cropped = _data[y_top:y_bottom+1, x_left:x_right+1]\n",
    "    cropped_data.append(_cropped)\n",
    "    w.value = index\n",
    "    \n",
    "w.visible = False\n",
    "\n",
    "[height, width] = np.shape(cropped_data[0])"
   ]
  },
  {
   "cell_type": "markdown",
   "metadata": {},
   "source": [
    "#### Checking cropping region "
   ]
  },
  {
   "cell_type": "code",
   "execution_count": 10,
   "metadata": {
    "collapsed": false
   },
   "outputs": [
    {
     "data": {
      "text/plain": [
       "[0, 19, 0, 19]"
      ]
     },
     "metadata": {},
     "output_type": "display_data"
    },
    {
     "data": {
      "image/png": "[encoded data removed]",
      "text/plain": [
       "<matplotlib.figure.Figure at 0x12c489c50>"
      ]
     },
     "metadata": {},
     "output_type": "display_data"
    }
   ],
   "source": [
    "def plot_image_for_cropping(file_index):\n",
    "    \n",
    "    fig = plt.figure(figsize=(10,10))\n",
    "    ax_img = plt.subplot(111)\n",
    "    ax_img.imshow(cropped_data[file_index])\n",
    "    \n",
    "#    _title = os.path.basename(list_files[file_index])\n",
    "#    ax_img.set_title(_title)\n",
    "    ax_img.set_title(\"Select Region To Crop\", fontsize=15)\n",
    "    ax_img.set_xlabel(\"Pixel x\")\n",
    "    ax_img.set_ylabel(\"Pixel Y\")\n",
    " \n",
    "    _rectangle = patches.Rectangle(\n",
    "        (x_left, y_top),\n",
    "        x_right - x_left,\n",
    "        y_bottom - y_top,\n",
    "        edgecolor = \"white\",\n",
    "        linewidth = 2,\n",
    "        fill = False)\n",
    "    ax_img.add_patch(_rectangle)\n",
    "\n",
    "    return [x_left, x_right, y_top, y_bottom]\n",
    "\n",
    "number_of_files = len(list_files)\n",
    "check = interact(plot_image_for_cropping,\n",
    "        file_index =widgets.IntSlider(min=0, \n",
    "                                      max=number_of_files-1,\n",
    "                                      step=1, value=0, \n",
    "                                      description='Image index'))\n"
   ]
  },
  {
   "cell_type": "markdown",
   "metadata": {},
   "source": [
    "### Binning "
   ]
  },
  {
   "cell_type": "code",
   "execution_count": 15,
   "metadata": {
    "collapsed": true
   },
   "outputs": [],
   "source": [
    "bin_value = 5       # pixels x pixels"
   ]
  },
  {
   "cell_type": "code",
   "execution_count": 16,
   "metadata": {
    "collapsed": false
   },
   "outputs": [
    {
     "name": "stdout",
     "output_type": "stream",
     "text": [
      "RECAPITULATION\n",
      "==============\n",
      "> Width of ROI is: 20\n",
      "> Height of ROI is: 20\n",
      "> Bin size is 5x5\n",
      "> Number of bins in the X direction is: 4\n",
      "> Number of bins in the Y direction is: 4\n"
     ]
    }
   ],
   "source": [
    "print(\"RECAPITULATION\")\n",
    "print(\"==============\")\n",
    "print(\"> Width of ROI is: {}\".format(width))\n",
    "print(\"> Height of ROI is: {}\".format(height))\n",
    "print(\"> Bin size is {}x{}\".format(bin_value, bin_value))\n",
    "number_x_bin = int(width / bin_value)\n",
    "print(\"> Number of bins in the X direction is: {}\".format(number_x_bin))\n",
    "number_y_bin = int(height / bin_value)\n",
    "print(\"> Number of bins in the Y direction is: {}\".format(number_y_bin))"
   ]
  },
  {
   "cell_type": "markdown",
   "metadata": {},
   "source": [
    "### Preview of ROIs"
   ]
  },
  {
   "cell_type": "code",
   "execution_count": 17,
   "metadata": {
    "collapsed": false
   },
   "outputs": [
    {
     "data": {
      "image/png": "[encoded data removed]",
      "text/plain": [
       "<matplotlib.figure.Figure at 0x12ccbf4a8>"
      ]
     },
     "metadata": {},
     "output_type": "display_data"
    }
   ],
   "source": [
    "def preview_image_binning(file_index):\n",
    "    \n",
    "    fig = plt.figure(figsize=(10,10))\n",
    "    ax_img = plt.subplot(111)\n",
    "    ax_img.imshow(cropped_data[file_index])\n",
    "    \n",
    "#    _title = os.path.basename(list_files[file_index])\n",
    "#    ax_img.set_title(_title)\n",
    "    ax_img.set_title(\"Select Region To Crop\", fontsize=15)\n",
    "    ax_img.set_xlabel(\"Pixel x\")\n",
    "    ax_img.set_ylabel(\"Pixel Y\")\n",
    " \n",
    "    for x_offset in np.arange(number_x_bin):\n",
    "        for y_offset in np.arange(number_y_bin):\n",
    "        \n",
    "            x_left = x_offset * bin_value\n",
    "            x_right = (x_offset + 1) * bin_value\n",
    "            y_top = y_offset * bin_value\n",
    "            y_bottom = (y_offset + 1) * bin_value\n",
    "        \n",
    "            _rectangle = patches.Rectangle(\n",
    "            (x_left, y_top),\n",
    "            x_right - x_left,\n",
    "            y_bottom - y_top,\n",
    "            edgecolor = \"white\",\n",
    "            linewidth = 2,\n",
    "            fill = False)\n",
    "            ax_img.add_patch(_rectangle)\n",
    "\n",
    "number_of_files = len(list_files)\n",
    "check = interact(preview_image_binning,\n",
    "        file_index =widgets.IntSlider(min=0, \n",
    "                                      max=number_of_files-1,\n",
    "                                      step=1, value=0, \n",
    "                                      description='File index'))\n",
    " "
   ]
  },
  {
   "cell_type": "markdown",
   "metadata": {},
   "source": [
    "### Preview of Bragg Edges Curves (row by row)"
   ]
  },
  {
   "cell_type": "code",
   "execution_count": 19,
   "metadata": {
    "collapsed": false
   },
   "outputs": [
    {
     "data": {
      "image/png": "[encoded data removed]",
      "text/plain": [
       "<matplotlib.figure.Figure at 0x12c60c2b0>"
      ]
     },
     "metadata": {},
     "output_type": "display_data"
    }
   ],
   "source": [
    "def get_data_for_row(row_index):\n",
    "    counts_vs_file_index_data = []\n",
    "    for number_x in np.arange(number_x_bin):\n",
    "        counts_vs_file = []\n",
    "        for _data in cropped_data:\n",
    "            x_left = number_x * bin_value\n",
    "            x_rigth = (number_x + 1) * bin_value\n",
    "            y_top = row_index * bin_value\n",
    "            y_bottom = (row_index + 1) * bin_value\n",
    "            \n",
    "            counts = np.mean(_data[y_top:y_bottom, x_left:x_right])\n",
    "            counts_vs_file.append(counts)\n",
    "        counts_vs_file_index_data.append(counts_vs_file)\n",
    "    return counts_vs_file_index_data\n",
    "\n",
    "def preview_bragg_edges_row_by_row(file_index, row_index):\n",
    "    \n",
    "    counts_vs_file_index_data = get_data_for_row(row_index)\n",
    "    \n",
    "    fig = plt.figure(figsize=(30,10))\n",
    "    ax_img = plt.subplot(121)\n",
    "    ax_img.imshow(cropped_data[file_index])\n",
    "    ax_img.set_title(\"Row of bins\", fontsize=15)\n",
    "    ax_img.set_xlabel(\"Pixel x\")\n",
    "    ax_img.set_ylabel(\"Pixel Y\")\n",
    "\n",
    "    ax_plot = plt.subplot(122)\n",
    "    for _plot in counts_vs_file_index_data:\n",
    "        ax_plot.plot(_plot)\n",
    "    ax_plot.set_title(\"Counts vs File Index\", fontsize=15)\n",
    "    ax_plot.set_xlabel(\"File Index\")\n",
    "    ax_plot.set_ylabel(\"Counts\")\n",
    " \n",
    "    for x_offset in np.arange(number_x_bin):\n",
    "    \n",
    "        x_left = x_offset * bin_value\n",
    "        x_right = (x_offset + 1) * bin_value\n",
    "        y_top = row_index * bin_value\n",
    "        y_bottom = (row_index + 1) * bin_value\n",
    "        \n",
    "        _rectangle = patches.Rectangle(\n",
    "            (x_left, y_top),\n",
    "            x_right - x_left,\n",
    "            y_bottom - y_top,\n",
    "            edgecolor = \"red\",\n",
    "            linewidth = 2,\n",
    "            fill = False)\n",
    "        ax_img.add_patch(_rectangle)\n",
    "\n",
    "check = interact(preview_bragg_edges_row_by_row,\n",
    "            file_index =widgets.IntSlider(min=0, \n",
    "                                      max=number_of_files-1,\n",
    "                                      step=1, value=0, \n",
    "                                      description='File index'),\n",
    "             row_index =widgets.IntSlider(min=0, \n",
    "                                      max=number_y_bin-1,\n",
    "                                      step=1, value=0, \n",
    "                                      description='Row index'))"
   ]
  },
  {
   "cell_type": "markdown",
   "metadata": {
    "collapsed": true
   },
   "source": [
    "### Export Data "
   ]
  },
  {
   "cell_type": "markdown",
   "metadata": {},
   "source": [
    "##### Select where to put the ascii files "
   ]
  },
  {
   "cell_type": "code",
   "execution_count": 20,
   "metadata": {
    "collapsed": true
   },
   "outputs": [],
   "source": [
    "export_dir_name = gui_widgets.gui_dname(dir = default_dir)"
   ]
  },
  {
   "cell_type": "code",
   "execution_count": 21,
   "metadata": {
    "collapsed": false
   },
   "outputs": [
    {
     "name": "stdout",
     "output_type": "stream",
     "text": [
      "RECAPITULATION\n",
      "==============\n",
      "> Notebook is about to create:\n",
      "> bin value: 5 pixels x 5 pixels\n",
      "> 4 files (1 file = 1 row)\n",
      "> Each file will contain 4 columns (number of columns)\n",
      "> Files will be created in this folder /Users/j35/Desktop\n",
      "> Base name of files will be:\n",
      "       -> FITSimages_row_000.csv\n",
      "       -> FITSimages_row_001.csv\n",
      "       -> FITSimages_row_002.csv\n"
     ]
    }
   ],
   "source": [
    "print(\"RECAPITULATION\")\n",
    "print(\"==============\")\n",
    "print(\"> Notebook is about to create:\")\n",
    "print(\"> bin value: {} pixels x {} pixels\".format(bin_value, bin_value))\n",
    "print(\"> {} files (1 file = 1 row)\".format(number_y_bin))\n",
    "print(\"> Each file will contain {} columns (number of columns)\".format(number_x_bin))\n",
    "print(\"> Files will be created in this folder {}\".format(export_dir_name))\n",
    "print(\"> Base name of files will be:\")\n",
    "print(\"       -> {}_row_000.csv\".format(base_name))\n",
    "print(\"       -> {}_row_001.csv\".format(base_name))\n",
    "print(\"       -> {}_row_002.csv\".format(base_name))"
   ]
  },
  {
   "cell_type": "code",
   "execution_count": 22,
   "metadata": {
    "collapsed": false
   },
   "outputs": [],
   "source": [
    "def export_row_data(file_name = '', data = []):\n",
    "    f = open(file_name, 'w')\n",
    "    text = \"# input folder: {}\\n\".format(base_name)\n",
    "    text += \"# bin size: {} pixels x {} pixels\\n\".format(bin_value, bin_value)\n",
    "    text += \"#\\n\"\n",
    "    text += '# file_index column_data\\n'\n",
    "    \n",
    "    [nbr_col, nbr_data] = np.shape(data)\n",
    "    for _index_row in np.arange(nbr_data):\n",
    "        text += \"{}\".format(_index_row)\n",
    "        for _index_col in np.arange(nbr_col):\n",
    "            _data = data[_index_col]\n",
    "            text += \",{}\".format(_data[_index_row])\n",
    "        text += \"\\n\"\n",
    "    \n",
    "    f.write(text)\n",
    "    f.close()\n",
    "\n",
    "def make_export_file_name(export_dir_name, base_name, index):\n",
    "    _short_file_name = base_name + \"_row_{:03d}.csv\".format(index)\n",
    "    return os.path.join(export_dir_name, _short_file_name)\n",
    "\n",
    "w = widgets.IntProgress(descrption='Cropping data')\n",
    "w.max = number_y_bin\n",
    "display(w)\n",
    "\n",
    "for _row in np.arange(number_y_bin):\n",
    "    export_file_name = make_export_file_name(export_dir_name, base_name, _row)\n",
    "    row_data = get_data_for_row(_row)\n",
    "    export_row_data(file_name = export_file_name,\n",
    "                   data = row_data)\n",
    "    w.value = _row\n",
    "\n",
    "w.visible = False"
   ]
  },
  {
   "cell_type": "code",
   "execution_count": null,
   "metadata": {
    "collapsed": true
   },
   "outputs": [],
   "source": []
  }
 ],
 "metadata": {
  "kernelspec": {
   "display_name": "Python 3",
   "language": "python",
   "name": "python3"
  },
  "language_info": {
   "codemirror_mode": {
    "name": "ipython",
    "version": 3
   },
   "file_extension": ".py",
   "mimetype": "text/x-python",
   "name": "python",
   "nbconvert_exporter": "python",
   "pygments_lexer": "ipython3",
   "version": "3.5.2"
  }
 },
 "nbformat": 4,
 "nbformat_minor": 0
}

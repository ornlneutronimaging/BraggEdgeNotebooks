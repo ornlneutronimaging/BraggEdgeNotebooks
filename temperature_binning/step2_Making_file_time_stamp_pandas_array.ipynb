{
 "cells": [
  {
   "cell_type": "code",
   "execution_count": 41,
   "metadata": {
    "collapsed": true
   },
   "outputs": [],
   "source": [
    "import pandas as pd\n",
    "import time\n",
    "import os\n",
    "import glob\n",
    "from pprint import pprint\n",
    "import matplotlib.pyplot as plt\n",
    "%matplotlib notebook"
   ]
  },
  {
   "cell_type": "code",
   "execution_count": 42,
   "metadata": {
    "collapsed": false
   },
   "outputs": [],
   "source": [
    "from IPython.html import widgets\n",
    "from IPython.display import display"
   ]
  },
  {
   "cell_type": "markdown",
   "metadata": {},
   "source": [
    "## Select working data set"
   ]
  },
  {
   "cell_type": "code",
   "execution_count": 43,
   "metadata": {
    "collapsed": true
   },
   "outputs": [],
   "source": [
    "root_folder = '/Volumes/My Book Thunderbolt Duo/IPTS/BraggEdge/SNAP/SNAP_August_September_2015/'"
   ]
  },
  {
   "cell_type": "code",
   "execution_count": 44,
   "metadata": {
    "collapsed": true
   },
   "outputs": [],
   "source": [
    "data_folder = 'September3_2015/'\n",
    "data_dir = root_folder + data_folder"
   ]
  },
  {
   "cell_type": "markdown",
   "metadata": {},
   "source": [
    "We are only keeping all the first file of each image"
   ]
  },
  {
   "cell_type": "code",
   "execution_count": 45,
   "metadata": {
    "collapsed": true
   },
   "outputs": [],
   "source": [
    "# list all *.fits file from data_dir\n",
    "list_fname = glob.glob(data_dir + '/*0000.fits')"
   ]
  },
  {
   "cell_type": "code",
   "execution_count": 46,
   "metadata": {
    "collapsed": false
   },
   "outputs": [
    {
     "name": "stdout",
     "output_type": "stream",
     "text": [
      "('folder requested: /Volumes/My Book Thunderbolt '\n",
      " 'Duo/IPTS/BraggEdge/SNAP/SNAP_August_September_2015/September3_2015/')\n",
      "'Number of files: 84'\n"
     ]
    }
   ],
   "source": [
    "number_of_files = len(list_fname)\n",
    "pprint(\"folder requested: %s\" %data_dir)\n",
    "pprint(\"Number of files: %d\" %number_of_files)"
   ]
  },
  {
   "cell_type": "code",
   "execution_count": 37,
   "metadata": {
    "collapsed": false
   },
   "outputs": [
    {
     "name": "stdout",
     "output_type": "stream",
     "text": [
      "['/Volumes/My Book Thunderbolt '\n",
      " 'Duo/IPTS/BraggEdge/SNAP/SNAP_August_September_2015/September3_2015/Image000_00000.fits',\n",
      " '/Volumes/My Book Thunderbolt '\n",
      " 'Duo/IPTS/BraggEdge/SNAP/SNAP_August_September_2015/September3_2015/Image001_00000.fits',\n",
      " '/Volumes/My Book Thunderbolt '\n",
      " 'Duo/IPTS/BraggEdge/SNAP/SNAP_August_September_2015/September3_2015/Image002_00000.fits',\n",
      " '/Volumes/My Book Thunderbolt '\n",
      " 'Duo/IPTS/BraggEdge/SNAP/SNAP_August_September_2015/September3_2015/Image003_00000.fits',\n",
      " '/Volumes/My Book Thunderbolt '\n",
      " 'Duo/IPTS/BraggEdge/SNAP/SNAP_August_September_2015/September3_2015/Image004_00000.fits',\n",
      " '/Volumes/My Book Thunderbolt '\n",
      " 'Duo/IPTS/BraggEdge/SNAP/SNAP_August_September_2015/September3_2015/Image005_00000.fits',\n",
      " '/Volumes/My Book Thunderbolt '\n",
      " 'Duo/IPTS/BraggEdge/SNAP/SNAP_August_September_2015/September3_2015/Image006_00000.fits',\n",
      " '/Volumes/My Book Thunderbolt '\n",
      " 'Duo/IPTS/BraggEdge/SNAP/SNAP_August_September_2015/September3_2015/Image007_00000.fits',\n",
      " '/Volumes/My Book Thunderbolt '\n",
      " 'Duo/IPTS/BraggEdge/SNAP/SNAP_August_September_2015/September3_2015/Image008_00000.fits',\n",
      " '/Volumes/My Book Thunderbolt '\n",
      " 'Duo/IPTS/BraggEdge/SNAP/SNAP_August_September_2015/September3_2015/Image009_00000.fits']\n"
     ]
    }
   ],
   "source": [
    "pprint(list_fname[0:10])"
   ]
  },
  {
   "cell_type": "markdown",
   "metadata": {},
   "source": [
    "## Retrieving time stamp (when the file was created)"
   ]
  },
  {
   "cell_type": "code",
   "execution_count": 47,
   "metadata": {
    "collapsed": true
   },
   "outputs": [],
   "source": [
    "#debugging\n",
    "#list_fname = list_fname[0:10]"
   ]
  },
  {
   "cell_type": "code",
   "execution_count": 51,
   "metadata": {
    "collapsed": false
   },
   "outputs": [
    {
     "data": {
      "text/html": [
       "<div>\n",
       "<table border=\"1\" class=\"dataframe\">\n",
       "  <thead>\n",
       "    <tr style=\"text-align: right;\">\n",
       "      <th></th>\n",
       "      <th>time_stamp</th>\n",
       "      <th>file_name</th>\n",
       "    </tr>\n",
       "  </thead>\n",
       "  <tbody>\n",
       "    <tr>\n",
       "      <th>0</th>\n",
       "      <td>1.441318e+09</td>\n",
       "      <td>/Volumes/My Book Thunderbolt Duo/IPTS/BraggEdg...</td>\n",
       "    </tr>\n",
       "    <tr>\n",
       "      <th>1</th>\n",
       "      <td>1.441319e+09</td>\n",
       "      <td>/Volumes/My Book Thunderbolt Duo/IPTS/BraggEdg...</td>\n",
       "    </tr>\n",
       "    <tr>\n",
       "      <th>2</th>\n",
       "      <td>1.441319e+09</td>\n",
       "      <td>/Volumes/My Book Thunderbolt Duo/IPTS/BraggEdg...</td>\n",
       "    </tr>\n",
       "    <tr>\n",
       "      <th>3</th>\n",
       "      <td>1.441320e+09</td>\n",
       "      <td>/Volumes/My Book Thunderbolt Duo/IPTS/BraggEdg...</td>\n",
       "    </tr>\n",
       "    <tr>\n",
       "      <th>4</th>\n",
       "      <td>1.441321e+09</td>\n",
       "      <td>/Volumes/My Book Thunderbolt Duo/IPTS/BraggEdg...</td>\n",
       "    </tr>\n",
       "  </tbody>\n",
       "</table>\n",
       "</div>"
      ],
      "text/plain": [
       "     time_stamp                                          file_name\n",
       "0  1.441318e+09  /Volumes/My Book Thunderbolt Duo/IPTS/BraggEdg...\n",
       "1  1.441319e+09  /Volumes/My Book Thunderbolt Duo/IPTS/BraggEdg...\n",
       "2  1.441319e+09  /Volumes/My Book Thunderbolt Duo/IPTS/BraggEdg...\n",
       "3  1.441320e+09  /Volumes/My Book Thunderbolt Duo/IPTS/BraggEdg...\n",
       "4  1.441321e+09  /Volumes/My Book Thunderbolt Duo/IPTS/BraggEdg..."
      ]
     },
     "execution_count": 51,
     "metadata": {},
     "output_type": "execute_result"
    }
   ],
   "source": [
    "w = widgets.IntProgress()\n",
    "w.max = number_of_files\n",
    "\n",
    "display(w)\n",
    "\n",
    "timestamp_array = []\n",
    "for index, _file in enumerate(list_fname):\n",
    "#    date_time_stamp = time.ctime(os.path.getmtime(_file))\n",
    "    time_stamp = os.path.getmtime(_file)\n",
    "    timestamp_array.append(time_stamp)\n",
    "#    converted_timestamp = pd.to_datetime(date_time_stamp)\n",
    "#    timestamp_array.append(converted_timestamp)    \n",
    "    w.value = index+1\n",
    "    \n",
    "data = list(zip(timestamp_array, list_fname))\n",
    "dates_vs_file_name = pd.DataFrame(data, columns=['time_stamp','file_name'])\n",
    "dates_vs_file_name.head()"
   ]
  },
  {
   "cell_type": "markdown",
   "metadata": {},
   "source": [
    "## output the dictionary"
   ]
  },
  {
   "cell_type": "code",
   "execution_count": 52,
   "metadata": {
    "collapsed": false
   },
   "outputs": [],
   "source": [
    "base_file_name = data_folder.split('/')[0]\n",
    "output_file = root_folder + base_file_name + '_time_file_name.csv'"
   ]
  },
  {
   "cell_type": "code",
   "execution_count": 53,
   "metadata": {
    "collapsed": false
   },
   "outputs": [
    {
     "name": "stdout",
     "output_type": "stream",
     "text": [
      "/Volumes/My Book Thunderbolt Duo/IPTS/BraggEdge/SNAP/SNAP_August_September_2015/September3_2015_time_file_name.csv\n"
     ]
    }
   ],
   "source": [
    "print(output_file)\n",
    "dates_vs_file_name.to_csv(output_file, index=False, header=False)"
   ]
  },
  {
   "cell_type": "code",
   "execution_count": null,
   "metadata": {
    "collapsed": true
   },
   "outputs": [],
   "source": []
  }
 ],
 "metadata": {
  "kernelspec": {
   "display_name": "Python 3",
   "language": "python",
   "name": "python3"
  },
  "language_info": {
   "codemirror_mode": {
    "name": "ipython",
    "version": 3
   },
   "file_extension": ".py",
   "mimetype": "text/x-python",
   "name": "python",
   "nbconvert_exporter": "python",
   "pygments_lexer": "ipython3",
   "version": "3.5.1"
  }
 },
 "nbformat": 4,
 "nbformat_minor": 0
}

{
 "cells": [
  {
   "cell_type": "code",
   "execution_count": 3,
   "metadata": {
    "collapsed": true
   },
   "outputs": [],
   "source": [
    "import time\n",
    "import os\n",
    "import glob\n",
    "from pprint import pprint\n",
    "import matplotlib.pyplot as plt\n",
    "%matplotlib notebook"
   ]
  },
  {
   "cell_type": "code",
   "execution_count": 4,
   "metadata": {
    "collapsed": false
   },
   "outputs": [
    {
     "name": "stderr",
     "output_type": "stream",
     "text": [
      "/Users/j35/anaconda/envs/py3/lib/python3.5/site-packages/IPython/html.py:14: ShimWarning: The `IPython.html` package has been deprecated. You should import from `notebook` instead. `IPython.html.widgets` has moved to `ipywidgets`.\n",
      "  \"`IPython.html.widgets` has moved to `ipywidgets`.\", ShimWarning)\n"
     ]
    }
   ],
   "source": [
    "from IPython.html import widgets\n",
    "from IPython.display import display"
   ]
  },
  {
   "cell_type": "markdown",
   "metadata": {},
   "source": [
    "## Select working data set"
   ]
  },
  {
   "cell_type": "code",
   "execution_count": 5,
   "metadata": {
    "collapsed": true
   },
   "outputs": [],
   "source": [
    "root_folder = '/Volumes/My Book Thunderbolt Duo/IPTS/BraggEdge/SNAP/SNAP_August_September_2015/'"
   ]
  },
  {
   "cell_type": "code",
   "execution_count": 6,
   "metadata": {
    "collapsed": true
   },
   "outputs": [],
   "source": [
    "data_folder = 'September3_2015/'\n",
    "data_dir = root_folder + data_folder"
   ]
  },
  {
   "cell_type": "code",
   "execution_count": 7,
   "metadata": {
    "collapsed": true
   },
   "outputs": [],
   "source": [
    "# list all *.fits file from data_dir\n",
    "list_fname = glob.glob(data_dir + '/*.fits')"
   ]
  },
  {
   "cell_type": "code",
   "execution_count": 8,
   "metadata": {
    "collapsed": false
   },
   "outputs": [
    {
     "name": "stdout",
     "output_type": "stream",
     "text": [
      "('folder requested: /Volumes/My Book Thunderbolt '\n",
      " 'Duo/IPTS/BraggEdge/SNAP/SNAP_August_September_2015/September3_2015/')\n",
      "'Number of files: 123091'\n"
     ]
    }
   ],
   "source": [
    "number_of_files = len(list_fname)\n",
    "pprint(\"folder requested: %s\" %data_dir)\n",
    "pprint(\"Number of files: %d\" %number_of_files)"
   ]
  },
  {
   "cell_type": "markdown",
   "metadata": {},
   "source": [
    "## Retrieving time stamp (when the file was created)"
   ]
  },
  {
   "cell_type": "code",
   "execution_count": 9,
   "metadata": {
    "collapsed": false
   },
   "outputs": [],
   "source": [
    "#debugging only\n",
    "number_of_files = 10\n",
    "list_fname = list_fname[:number_of_files]"
   ]
  },
  {
   "cell_type": "code",
   "execution_count": 14,
   "metadata": {
    "collapsed": false
   },
   "outputs": [],
   "source": [
    "def format_time_stamp(file_name = None, time_stamp = None):\n",
    "    \"\"\"Format the time stamp to easily retrieve the day, time, hour,\n",
    "    and keep only short file name\"\"\"\n",
    "    \n",
    "    _short_file_name = os.path.basename(file_name)\n",
    "    [week_day, month, day, hours, year] = time_stamp.split()\n",
    "    \n",
    "    [hours, minutes, seconds] = hours.split(':')\n",
    "    _dict_time = {\"hours\": hours,\n",
    "                  \"minutes\": minutes,\n",
    "                  \"seconds\": seconds}\n",
    "    \n",
    "    _dict_time_stamp = {\"week_day\": week_day,\n",
    "                       \"month\": month,\n",
    "                       \"day\": day,\n",
    "                       \"hours\": _dict_time,\n",
    "                       \"year\": year}\n",
    "    \n",
    "    return [_short_file_name, _dict_time_stamp]\n"
   ]
  },
  {
   "cell_type": "code",
   "execution_count": 19,
   "metadata": {
    "collapsed": false
   },
   "outputs": [
    {
     "name": "stdout",
     "output_type": "stream",
     "text": [
      "/Volumes/My Book Thunderbolt Duo/IPTS/BraggEdge/SNAP/SNAP_August_September_2015/September3_2015/Image000_00000.fits -> Thu Sep  3 18:04:47 2015\n",
      "/Volumes/My Book Thunderbolt Duo/IPTS/BraggEdge/SNAP/SNAP_August_September_2015/September3_2015/Image000_00001.fits -> Thu Sep  3 18:04:47 2015\n",
      "/Volumes/My Book Thunderbolt Duo/IPTS/BraggEdge/SNAP/SNAP_August_September_2015/September3_2015/Image000_00002.fits -> Thu Sep  3 18:04:47 2015\n",
      "/Volumes/My Book Thunderbolt Duo/IPTS/BraggEdge/SNAP/SNAP_August_September_2015/September3_2015/Image000_00003.fits -> Thu Sep  3 18:04:47 2015\n",
      "/Volumes/My Book Thunderbolt Duo/IPTS/BraggEdge/SNAP/SNAP_August_September_2015/September3_2015/Image000_00004.fits -> Thu Sep  3 18:04:47 2015\n",
      "/Volumes/My Book Thunderbolt Duo/IPTS/BraggEdge/SNAP/SNAP_August_September_2015/September3_2015/Image000_00005.fits -> Thu Sep  3 18:04:47 2015\n",
      "/Volumes/My Book Thunderbolt Duo/IPTS/BraggEdge/SNAP/SNAP_August_September_2015/September3_2015/Image000_00006.fits -> Thu Sep  3 18:04:47 2015\n",
      "/Volumes/My Book Thunderbolt Duo/IPTS/BraggEdge/SNAP/SNAP_August_September_2015/September3_2015/Image000_00007.fits -> Thu Sep  3 18:04:47 2015\n",
      "/Volumes/My Book Thunderbolt Duo/IPTS/BraggEdge/SNAP/SNAP_August_September_2015/September3_2015/Image000_00008.fits -> Thu Sep  3 18:04:47 2015\n",
      "/Volumes/My Book Thunderbolt Duo/IPTS/BraggEdge/SNAP/SNAP_August_September_2015/September3_2015/Image000_00009.fits -> Thu Sep  3 18:04:47 2015\n"
     ]
    }
   ],
   "source": [
    "w = widgets.IntProgress()\n",
    "w.max = number_of_files\n",
    "\n",
    "display(w)\n",
    "\n",
    "file_time_dictionary = {}\n",
    "for index, _file in enumerate(list_fname):\n",
    "    date_time_stamp = time.ctime(os.path.getmtime(_file))\n",
    "    [file_name, time_metadata] = format_time_stamp(file_name = _file,\n",
    "                                                  time_stamp = date_time_stamp)\n",
    "    file_time_dictionary[file_name] = time_metadata\n",
    "    print(\"%s -> %s\" %(_file, date_time_stamp))\n",
    "    \n",
    "    w.value = index+1\n"
   ]
  },
  {
   "cell_type": "code",
   "execution_count": 20,
   "metadata": {
    "collapsed": false
   },
   "outputs": [
    {
     "name": "stdout",
     "output_type": "stream",
     "text": [
      "{'Image000_00000.fits': {'day': '3',\n",
      "                         'hours': {'hours': '18',\n",
      "                                   'minutes': '04',\n",
      "                                   'seconds': '47'},\n",
      "                         'month': 'Sep',\n",
      "                         'week_day': 'Thu',\n",
      "                         'year': '2015'},\n",
      " 'Image000_00001.fits': {'day': '3',\n",
      "                         'hours': {'hours': '18',\n",
      "                                   'minutes': '04',\n",
      "                                   'seconds': '47'},\n",
      "                         'month': 'Sep',\n",
      "                         'week_day': 'Thu',\n",
      "                         'year': '2015'},\n",
      " 'Image000_00002.fits': {'day': '3',\n",
      "                         'hours': {'hours': '18',\n",
      "                                   'minutes': '04',\n",
      "                                   'seconds': '47'},\n",
      "                         'month': 'Sep',\n",
      "                         'week_day': 'Thu',\n",
      "                         'year': '2015'},\n",
      " 'Image000_00003.fits': {'day': '3',\n",
      "                         'hours': {'hours': '18',\n",
      "                                   'minutes': '04',\n",
      "                                   'seconds': '47'},\n",
      "                         'month': 'Sep',\n",
      "                         'week_day': 'Thu',\n",
      "                         'year': '2015'},\n",
      " 'Image000_00004.fits': {'day': '3',\n",
      "                         'hours': {'hours': '18',\n",
      "                                   'minutes': '04',\n",
      "                                   'seconds': '47'},\n",
      "                         'month': 'Sep',\n",
      "                         'week_day': 'Thu',\n",
      "                         'year': '2015'},\n",
      " 'Image000_00005.fits': {'day': '3',\n",
      "                         'hours': {'hours': '18',\n",
      "                                   'minutes': '04',\n",
      "                                   'seconds': '47'},\n",
      "                         'month': 'Sep',\n",
      "                         'week_day': 'Thu',\n",
      "                         'year': '2015'},\n",
      " 'Image000_00006.fits': {'day': '3',\n",
      "                         'hours': {'hours': '18',\n",
      "                                   'minutes': '04',\n",
      "                                   'seconds': '47'},\n",
      "                         'month': 'Sep',\n",
      "                         'week_day': 'Thu',\n",
      "                         'year': '2015'},\n",
      " 'Image000_00007.fits': {'day': '3',\n",
      "                         'hours': {'hours': '18',\n",
      "                                   'minutes': '04',\n",
      "                                   'seconds': '47'},\n",
      "                         'month': 'Sep',\n",
      "                         'week_day': 'Thu',\n",
      "                         'year': '2015'},\n",
      " 'Image000_00008.fits': {'day': '3',\n",
      "                         'hours': {'hours': '18',\n",
      "                                   'minutes': '04',\n",
      "                                   'seconds': '47'},\n",
      "                         'month': 'Sep',\n",
      "                         'week_day': 'Thu',\n",
      "                         'year': '2015'},\n",
      " 'Image000_00009.fits': {'day': '3',\n",
      "                         'hours': {'hours': '18',\n",
      "                                   'minutes': '04',\n",
      "                                   'seconds': '47'},\n",
      "                         'month': 'Sep',\n",
      "                         'week_day': 'Thu',\n",
      "                         'year': '2015'}}\n"
     ]
    }
   ],
   "source": [
    "pprint(file_time_dictionary)"
   ]
  },
  {
   "cell_type": "code",
   "execution_count": null,
   "metadata": {
    "collapsed": true
   },
   "outputs": [],
   "source": []
  }
 ],
 "metadata": {
  "kernelspec": {
   "display_name": "Python 3",
   "language": "python",
   "name": "python3"
  },
  "language_info": {
   "codemirror_mode": {
    "name": "ipython",
    "version": 3
   },
   "file_extension": ".py",
   "mimetype": "text/x-python",
   "name": "python",
   "nbconvert_exporter": "python",
   "pygments_lexer": "ipython3",
   "version": "3.5.1"
  }
 },
 "nbformat": 4,
 "nbformat_minor": 0
}

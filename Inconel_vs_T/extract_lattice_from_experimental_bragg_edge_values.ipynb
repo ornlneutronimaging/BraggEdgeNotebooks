{
 "cells": [
  {
   "cell_type": "code",
   "execution_count": 1,
   "metadata": {
    "collapsed": true
   },
   "outputs": [],
   "source": [
    "import numpy as np\n",
    "import sys\n",
    "sys.path.append('/users/j35/git/braggedge/python')"
   ]
  },
  {
   "cell_type": "markdown",
   "metadata": {},
   "source": [
    "# Retrieving values from table "
   ]
  },
  {
   "cell_type": "code",
   "execution_count": 2,
   "metadata": {
    "collapsed": true
   },
   "outputs": [],
   "source": [
    "from neutronbraggedge.braggedge import BraggEdge"
   ]
  },
  {
   "cell_type": "code",
   "execution_count": 3,
   "metadata": {
    "collapsed": true
   },
   "outputs": [],
   "source": [
    "_handler = BraggEdge(material = 'inconel', number_of_bragg_edges = 20)"
   ]
  },
  {
   "cell_type": "code",
   "execution_count": 4,
   "metadata": {
    "collapsed": false
   },
   "outputs": [
    {
     "name": "stdout",
     "output_type": "stream",
     "text": [
      "=============================================\n",
      "Material: inconel\n",
      "Lattice : 3.5950Å\n",
      "Crystal Structure: FCC\n",
      "Using local metadata Table: True\n",
      "=============================================\n",
      " h | k | l |\t d (Å)  |\t BraggEdge\n",
      "---------------------------------------------\n",
      " 1 | 1 | 1 |\t 2.07557 |\t 4.15115\n",
      " 2 | 0 | 0 |\t 1.79750 |\t 3.59500\n",
      " 2 | 2 | 0 |\t 1.27102 |\t 2.54205\n",
      " 2 | 2 | 2 |\t 1.03779 |\t 2.07557\n",
      " 3 | 1 | 1 |\t 1.08393 |\t 2.16787\n",
      " 3 | 3 | 1 |\t 0.82475 |\t 1.64950\n",
      " 3 | 3 | 3 |\t 0.69186 |\t 1.38372\n",
      " 4 | 0 | 0 |\t 0.89875 |\t 1.79750\n",
      " 4 | 2 | 0 |\t 0.80387 |\t 1.60773\n",
      " 4 | 2 | 2 |\t 0.73383 |\t 1.46765\n",
      " 4 | 4 | 0 |\t 0.63551 |\t 1.27102\n",
      " 4 | 4 | 2 |\t 0.59917 |\t 1.19833\n",
      " 4 | 4 | 4 |\t 0.51889 |\t 1.03779\n",
      " 5 | 1 | 1 |\t 0.69186 |\t 1.38372\n",
      " 5 | 3 | 1 |\t 0.60767 |\t 1.21533\n",
      " 5 | 3 | 3 |\t 0.54823 |\t 1.09646\n",
      " 5 | 5 | 1 |\t 0.50340 |\t 1.00680\n",
      " 5 | 5 | 3 |\t 0.46803 |\t 0.93606\n",
      " 5 | 5 | 5 |\t 0.41511 |\t 0.83023\n",
      " 6 | 0 | 0 |\t 0.59917 |\t 1.19833\n",
      "=============================================\n",
      "\n"
     ]
    }
   ],
   "source": [
    "print(_handler)"
   ]
  },
  {
   "cell_type": "markdown",
   "metadata": {},
   "source": [
    "# Calculating exp values "
   ]
  },
  {
   "cell_type": "code",
   "execution_count": 5,
   "metadata": {
    "collapsed": false,
    "scrolled": true
   },
   "outputs": [],
   "source": [
    "from neutronbraggedge.lattice_handler.lattice import Lattice"
   ]
  },
  {
   "cell_type": "code",
   "execution_count": 6,
   "metadata": {
    "collapsed": true
   },
   "outputs": [],
   "source": [
    "exp_bragg_edge = np.array([4.15297, 3.59671, 2.54284, 2.07592, 2.16852, \n",
    "                            1.64961, np.NaN, 1.79789, 1.60796, 1.46790, \n",
    "                           1.27165, np.NaN, np.NaN, 1.38411, 1.21610,\n",
    "                           np.NaN, np.NaN, np.NaN, np.NaN, 1.19915])\n",
    "\n",
    "exp_bragg_edge_error = np.array([0.00017, 0.00010, 0.00008, 0.00006, 0.00007,\n",
    "                                 0.00006, np.NaN, 0.00006, 0.00006, 0.00006,\n",
    "                                 0.00018, np.NaN, np.NaN, 0.00006, 0.00013,\n",
    "                                 np.NaN, np.NaN, np.NaN, np.NaN, 0.00024])"
   ]
  },
  {
   "cell_type": "code",
   "execution_count": 7,
   "metadata": {
    "collapsed": true
   },
   "outputs": [],
   "source": [
    "o_lattice = Lattice(material = 'Inconel',\n",
    "                   crystal_structure = 'FCC',\n",
    "                    bragg_edge_array = exp_bragg_edge,\n",
    "                   bragg_edge_error_array = exp_bragg_edge_error)"
   ]
  },
  {
   "cell_type": "code",
   "execution_count": 8,
   "metadata": {
    "collapsed": false
   },
   "outputs": [
    {
     "name": "stdout",
     "output_type": "stream",
     "text": [
      " -- Recap --\n",
      "===========================================================================\n",
      "Material: 'Inconel'\n",
      "Crystal Structure: 'FCC'\n",
      "---------------------------------------------------------------------------\n",
      "\n",
      "hkl Bragg Edge Table\n",
      "===========================================================================\n",
      "hkl \t\t Bragg Edge Value\t Bragg Edge Error \t Lattice\n",
      "---------------------------------------------------------------------------\n",
      "[1, 1, 1]\t 4.15297 \t\t 0.00017 \t\t 3.59658\n",
      "[2, 0, 0]\t 3.59671 \t\t 0.00010 \t\t 3.59671\n",
      "[2, 2, 0]\t 2.54284 \t\t 0.00008 \t\t 3.59612\n",
      "[2, 2, 2]\t 2.07592 \t\t 0.00006 \t\t 3.59560\n",
      "[3, 1, 1]\t 2.16852 \t\t 0.00007 \t\t 3.59608\n",
      "[3, 3, 1]\t 1.64961 \t\t 0.00006 \t\t 3.59524\n",
      "[3, 3, 3]\t nan \t\t\t nan \t\t\t nan\n",
      "[4, 0, 0]\t 1.79789 \t\t 0.00006 \t\t 3.59578\n",
      "[4, 2, 0]\t 1.60796 \t\t 0.00006 \t\t 3.59551\n",
      "[4, 2, 2]\t 1.46790 \t\t 0.00006 \t\t 3.59561\n",
      "[4, 4, 0]\t 1.27165 \t\t 0.00018 \t\t 3.59677\n",
      "[4, 4, 2]\t nan \t\t\t nan \t\t\t nan\n",
      "[4, 4, 4]\t nan \t\t\t nan \t\t\t nan\n",
      "[5, 1, 1]\t 1.38411 \t\t 0.00006 \t\t 3.59602\n",
      "[5, 3, 1]\t 1.21610 \t\t 0.00013 \t\t 3.59727\n",
      "[5, 3, 3]\t nan \t\t\t nan \t\t\t nan\n",
      "[5, 5, 1]\t nan \t\t\t nan \t\t\t nan\n",
      "[5, 5, 3]\t nan \t\t\t nan \t\t\t nan\n",
      "[5, 5, 5]\t nan \t\t\t nan \t\t\t nan\n",
      "[6, 0, 0]\t 1.19915 \t\t 0.00024 \t\t 3.59745\n",
      "---------------------------------------------------------------------------\n",
      "\n",
      "Lattice Statistics\n",
      "===========================================================================\n",
      "min: 3.59524\n",
      "max: 3.59745\n",
      "median: 3.59608\n",
      "mean: 3.59621 +/- 0.00008\n",
      "std: 0.00067\n",
      "---------------------------------------------------------------------------\n",
      "\n",
      "None\n"
     ]
    }
   ],
   "source": [
    "print(o_lattice.display_recap())"
   ]
  },
  {
   "cell_type": "code",
   "execution_count": null,
   "metadata": {
    "collapsed": true
   },
   "outputs": [],
   "source": []
  }
 ],
 "metadata": {
  "kernelspec": {
   "display_name": "Python 3",
   "language": "python",
   "name": "python3"
  },
  "language_info": {
   "codemirror_mode": {
    "name": "ipython",
    "version": 3
   },
   "file_extension": ".py",
   "mimetype": "text/x-python",
   "name": "python",
   "nbconvert_exporter": "python",
   "pygments_lexer": "ipython3",
   "version": "3.5.2"
  }
 },
 "nbformat": 4,
 "nbformat_minor": 0
}

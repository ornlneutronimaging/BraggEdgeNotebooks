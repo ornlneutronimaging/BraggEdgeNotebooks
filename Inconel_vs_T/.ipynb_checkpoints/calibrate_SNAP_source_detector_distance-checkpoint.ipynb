{
 "cells": [
  {
   "cell_type": "markdown",
   "metadata": {},
   "source": [
    "# Calibrate distance Source-Detector at SNAP"
   ]
  },
  {
   "cell_type": "markdown",
   "metadata": {},
   "source": [
    "We will be using Al Bragg edge peaks for this on the Open Beam (OB) data"
   ]
  },
  {
   "cell_type": "code",
   "execution_count": null,
   "metadata": {
    "collapsed": false
   },
   "outputs": [],
   "source": [
    "from PIL import Image\n",
    "import numpy as np"
   ]
  },
  {
   "cell_type": "code",
   "execution_count": null,
   "metadata": {
    "collapsed": false
   },
   "outputs": [],
   "source": [
    "from pprint import pprint\n",
    "from ipywidgets import widgets\n",
    "from ipywidgets.widgets import interact\n",
    "from IPython.display import display"
   ]
  },
  {
   "cell_type": "code",
   "execution_count": null,
   "metadata": {
    "collapsed": true
   },
   "outputs": [],
   "source": [
    "import matplotlib.image as mpimg\n",
    "import matplotlib.pyplot as plt\n",
    "from matplotlib.patches import Rectangle"
   ]
  },
  {
   "cell_type": "code",
   "execution_count": null,
   "metadata": {
    "collapsed": true
   },
   "outputs": [],
   "source": [
    "import glob"
   ]
  },
  {
   "cell_type": "code",
   "execution_count": null,
   "metadata": {
    "collapsed": true
   },
   "outputs": [],
   "source": [
    "#%matplotlib notebook\n",
    "%matplotlib inline"
   ]
  },
  {
   "cell_type": "code",
   "execution_count": null,
   "metadata": {
    "collapsed": true
   },
   "outputs": [],
   "source": [
    "import pyfits"
   ]
  },
  {
   "cell_type": "code",
   "execution_count": null,
   "metadata": {
    "collapsed": false
   },
   "outputs": [],
   "source": [
    "from IPython.display import set_matplotlib_formats\n",
    "set_matplotlib_formats('png', 'pdf')"
   ]
  },
  {
   "cell_type": "markdown",
   "metadata": {},
   "source": [
    "## Setup plot.ly "
   ]
  },
  {
   "cell_type": "code",
   "execution_count": null,
   "metadata": {
    "collapsed": false
   },
   "outputs": [],
   "source": [
    "from plotly.offline  import plot\n",
    "from plotly.graph_objs import *\n",
    "import plotly.tools as lts\n",
    "from plotly.offline import init_notebook_mode, iplot\n",
    "import plotly.graph_objs as go\n",
    "import plotly.plotly as py"
   ]
  },
  {
   "cell_type": "code",
   "execution_count": null,
   "metadata": {
    "collapsed": false
   },
   "outputs": [],
   "source": [
    "py.sign_in('jeanbilheux', 'pnvcy0lryl')"
   ]
  },
  {
   "cell_type": "code",
   "execution_count": null,
   "metadata": {
    "collapsed": false
   },
   "outputs": [],
   "source": [
    "init_notebook_mode()"
   ]
  },
  {
   "cell_type": "markdown",
   "metadata": {},
   "source": [
    "## Load OB data"
   ]
  },
  {
   "cell_type": "markdown",
   "metadata": {},
   "source": [
    "**USER** =====>  which OB folder to use"
   ]
  },
  {
   "cell_type": "code",
   "execution_count": null,
   "metadata": {
    "collapsed": false
   },
   "outputs": [],
   "source": [
    "# root dir\n",
    "root_dir = '/Volumes/My Book Thunderbolt Duo/IPTS/BraggEdge/VULCAN/Inconel_Powder/'"
   ]
  },
  {
   "cell_type": "code",
   "execution_count": null,
   "metadata": {
    "collapsed": false
   },
   "outputs": [],
   "source": [
    "# OBs\n",
    "data_dir = root_dir + 'OB'\n",
    "print(data_dir)"
   ]
  },
  {
   "cell_type": "code",
   "execution_count": null,
   "metadata": {
    "collapsed": true
   },
   "outputs": [],
   "source": [
    "list_fname = glob.glob(data_dir + '/*')"
   ]
  },
  {
   "cell_type": "code",
   "execution_count": null,
   "metadata": {
    "collapsed": false
   },
   "outputs": [],
   "source": [
    "pprint(\"Number of files to load: %d\" %(len(list_fname)))"
   ]
  },
  {
   "cell_type": "markdown",
   "metadata": {},
   "source": [
    "Make sure files are sorted the right way !"
   ]
  },
  {
   "cell_type": "markdown",
   "metadata": {},
   "source": [
    "Load images"
   ]
  },
  {
   "cell_type": "code",
   "execution_count": null,
   "metadata": {
    "collapsed": false
   },
   "outputs": [],
   "source": [
    "nbr_data = len(list_fname)\n",
    "OBs = []\n",
    "\n",
    "w = widgets.IntProgress()\n",
    "w.max = nbr_data\n",
    "display(w)\n",
    "\n",
    "for _index in range(nbr_data):\n",
    "        \n",
    "        _file = list_fname[_index]\n",
    "        hdu_list = pyfits.open(_file)  # fits\n",
    "        hdu = hdu_list[0]\n",
    "        _image = hdu.data\n",
    "        #_image = Image.open(_file)  # tif\n",
    "        \n",
    "        _image = np.asarray(_image)\n",
    "        OBs.append(_image)\n",
    "\n",
    "        w.value = _index\n",
    "    "
   ]
  },
  {
   "cell_type": "code",
   "execution_count": null,
   "metadata": {
    "collapsed": false
   },
   "outputs": [],
   "source": [
    "#test display image\n",
    "fig2 = plt.figure()\n",
    "plt.imshow(OBs[200])"
   ]
  },
  {
   "cell_type": "markdown",
   "metadata": {},
   "source": [
    "## Add all counts of each image"
   ]
  },
  {
   "cell_type": "code",
   "execution_count": null,
   "metadata": {
    "collapsed": false
   },
   "outputs": [],
   "source": [
    "nbr_obs = len(OBs)"
   ]
  },
  {
   "cell_type": "code",
   "execution_count": null,
   "metadata": {
    "collapsed": true
   },
   "outputs": [],
   "source": [
    "sum_counts = []\n",
    "for _image in OBs:\n",
    "    _sum = np.sum(_image)\n",
    "    sum_counts.append(_sum)"
   ]
  },
  {
   "cell_type": "code",
   "execution_count": null,
   "metadata": {
    "collapsed": false
   },
   "outputs": [],
   "source": [
    "# display to check values\n",
    "trace1 = go.Scatter(\n",
    "            x = np.arange(nbr_obs),\n",
    "            y = sum_counts)\n",
    "data = [trace1]\n",
    "\n",
    "#layout = dict(title = 'Total Counts',\n",
    "#        xaxis = dict(title = 'Image index'),\n",
    "#        yaxis = dict(title = 'Counts')\n",
    "#              )\n",
    "# or\n",
    "#\n",
    "layout = go.Layout(\n",
    "        title = \"Total Counts\",\n",
    "        xaxis = {\"title\": 'Image index'},\n",
    "        yaxis = {\"title\": \"Counts\"}\n",
    "    )\n",
    "\n",
    "figure = go.Figure(data = data, layout = layout)\n",
    "iplot(figure)"
   ]
  },
  {
   "cell_type": "markdown",
   "metadata": {},
   "source": [
    "# Convert 'Image Index' to 'time' "
   ]
  },
  {
   "cell_type": "code",
   "execution_count": null,
   "metadata": {
    "collapsed": false
   },
   "outputs": [],
   "source": [
    "import sys\n",
    "sys.path.append('/users/j35/git/braggedge/python')"
   ]
  },
  {
   "cell_type": "code",
   "execution_count": null,
   "metadata": {
    "collapsed": true
   },
   "outputs": [],
   "source": [
    "from neutronbraggedge.experiment_handler import *"
   ]
  },
  {
   "cell_type": "code",
   "execution_count": null,
   "metadata": {
    "collapsed": false
   },
   "outputs": [],
   "source": [
    "import os\n",
    "tof_spectra_file = os.path.join(default_dir, 'Corrected_OBs_run1_image061/Image061_Spectra.txt')\n",
    "_tof_handler = TOF(filename = tof_spectra_file)\n",
    "print(\"TOF axis size: %d\" %len(_tof_handler.tof_array))\n",
    "print(\"Number of files: %d\" %nbr_obs)"
   ]
  },
  {
   "cell_type": "code",
   "execution_count": null,
   "metadata": {
    "collapsed": false
   },
   "outputs": [],
   "source": [
    "layout = go.Layout(title = \"Sum Counts vs TOF\")\n",
    "layout.xaxis['title'] = \"TOF (microS)\"\n",
    "layout.yaxis['title'] = \"Counts\"\n",
    "trace1 = Scatter(x = _tof_handler.tof_array,\n",
    "                y = sum_counts,\n",
    "                mode = 'markers',\n",
    "                marker = Marker( color = 'red',\n",
    "                               symbol = 'square'))\n",
    "data = Data([trace1])\n",
    "fig = Figure(data=data, layout=layout)\n",
    "iplot(fig)"
   ]
  },
  {
   "cell_type": "markdown",
   "metadata": {},
   "source": [
    "# Retrieve Al Bragg edges values "
   ]
  },
  {
   "cell_type": "code",
   "execution_count": null,
   "metadata": {
    "collapsed": false
   },
   "outputs": [],
   "source": [
    "from neutronbraggedge.braggedge import BraggEdge"
   ]
  },
  {
   "cell_type": "code",
   "execution_count": null,
   "metadata": {
    "collapsed": true
   },
   "outputs": [],
   "source": [
    "_handler = BraggEdge(material='Al', number_of_bragg_edges=4)"
   ]
  },
  {
   "cell_type": "code",
   "execution_count": null,
   "metadata": {
    "collapsed": true
   },
   "outputs": [],
   "source": [
    "_Al_bragg_edges = _handler.bragg_edges\n",
    "_Al_hkl = _handler.hkl"
   ]
  },
  {
   "cell_type": "markdown",
   "metadata": {},
   "source": [
    "# Estimate best distance_source_detector "
   ]
  },
  {
   "cell_type": "code",
   "execution_count": null,
   "metadata": {
    "collapsed": true
   },
   "outputs": [],
   "source": [
    "detector_offset = 4.5e3 #micros   #default 4.5e3"
   ]
  },
  {
   "cell_type": "code",
   "execution_count": null,
   "metadata": {
    "collapsed": false
   },
   "outputs": [],
   "source": [
    "distance_source_detector = 16.09   #m\n",
    "\n",
    "# initialize tof -> lambda convertor\n",
    "_exp = Experiment(tof = _tof_handler.tof_array,\n",
    "                 distance_source_detector_m = distance_source_detector,\n",
    "                 detector_offset_micros = detector_offset)\n",
    "\n",
    "# retrieve lambda array\n",
    "lambda_array_angstroms = _exp.lambda_array * 1e10\n",
    "\n",
    "# format hkl labels\n",
    "_hkl_string = []\n",
    "for _hkl in _Al_hkl:\n",
    "    _hkl_s = \",\".join(str(x) for x in _hkl)\n",
    "    _hkl_string.append(_hkl_s)\n",
    "\n",
    "# plot\n",
    "trace1 = go.Scatter(\n",
    "            x = lambda_array_angstroms,\n",
    "            y = sum_counts,\n",
    "            mode = \"markers\")\n",
    "\n",
    "layout = go.Layout(\n",
    "            title = \"Total Counts and Ideal Al Bragg Edge Values\",\n",
    "            xaxis = {\"title\": \"Lambda (Angstroms)\"},\n",
    "            yaxis = {\"title\": \"Counts\"},\n",
    "            annotations = []\n",
    "    )\n",
    "\n",
    "y_offset = 200\n",
    "y_value = 8000000\n",
    "max_x = 6\n",
    "\n",
    "for _index, _value in enumerate(_Al_bragg_edges):\n",
    "    if _value > max_x:\n",
    "        continue\n",
    "    bragg_line = {\"type\": \"line\",\n",
    "                'x0': _value,\n",
    "                'x1': _value,\n",
    "                 'yref': \"paper\",\n",
    "                 'y0': 0,\n",
    "                 'y1': 1,\n",
    "                 'line': {\n",
    "                    'color': 'rgb(255, 0, 0)',\n",
    "                    'width': 1\n",
    "        }}\n",
    "    layout.shapes.append(bragg_line)\n",
    "    \n",
    "    # add labels to plots\n",
    "    _annot = dict(\n",
    "                x=_value,\n",
    "                y=1,\n",
    "                text = _hkl_string[_index],\n",
    "                yref=\"paper\",\n",
    "                font=dict(\n",
    "                    family=\"Arial\",\n",
    "                    size=16,\n",
    "                    color=\"rgb(150,50,50)\"\n",
    "                ),\n",
    "                showarrow=True,\n",
    "                arrowhead=3,\n",
    "                ax=0,\n",
    "                ay=-25)\n",
    "                \n",
    "    layout.annotations.append(_annot)\n",
    "    \n",
    "    \n",
    "\n",
    "data = [trace1]\n",
    "    \n",
    "fig1 = go.Figure(data=data, layout=layout)\n",
    "iplot(fig1)    "
   ]
  },
  {
   "cell_type": "markdown",
   "metadata": {},
   "source": [
    "END OF CURRENT WORK"
   ]
  }
 ],
 "metadata": {
  "kernelspec": {
   "display_name": "Python 3",
   "language": "python",
   "name": "python3"
  },
  "language_info": {
   "codemirror_mode": {
    "name": "ipython",
    "version": 3
   },
   "file_extension": ".py",
   "mimetype": "text/x-python",
   "name": "python",
   "nbconvert_exporter": "python",
   "pygments_lexer": "ipython3",
   "version": "3.5.1"
  }
 },
 "nbformat": 4,
 "nbformat_minor": 0
}
